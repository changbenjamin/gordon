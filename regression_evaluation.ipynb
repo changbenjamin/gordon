{
 "cells": [
  {
   "cell_type": "code",
   "execution_count": 13,
   "id": "b2684b7a-162f-4e4c-a1a6-418ad3e92906",
   "metadata": {
    "tags": []
   },
   "outputs": [
    {
     "name": "stdout",
     "output_type": "stream",
     "text": [
      "Accuracy: 22.26%\n"
     ]
    }
   ],
   "source": [
    "import pandas as pd\n",
    "\n",
    "# Load your CSV into a pandas DataFrame\n",
    "df = pd.read_csv(\"random_stage2_test_predictions.csv\")\n",
    "\n",
    "# Define the number of quantiles you want (e.g., 4 for quartiles)\n",
    "num_quantiles = 5\n",
    "\n",
    "# Calculate quantiles for the predicted and truth values\n",
    "df['pred_quantile'] = pd.qcut(df['predicted'], num_quantiles, labels=False, duplicates='drop')\n",
    "df['true_quantile'] = pd.qcut(df['truth'], num_quantiles, labels=False, duplicates='drop')\n",
    "\n",
    "# Compare the quantiles\n",
    "df['quantile_match'] = df['pred_quantile'] == df['true_quantile']\n",
    "\n",
    "# Calculate the percentage of times the quantiles match\n",
    "accuracy = df['quantile_match'].mean()\n",
    "\n",
    "print(f\"Accuracy: {accuracy * 100:.2f}%\")"
   ]
  },
  {
   "cell_type": "code",
   "execution_count": null,
   "id": "e3bdf94e-38fd-4899-9ec6-c3b64fe60834",
   "metadata": {},
   "outputs": [],
   "source": []
  }
 ],
 "metadata": {
  "kernelspec": {
   "display_name": "juniper",
   "language": "python",
   "name": "juniper"
  },
  "language_info": {
   "codemirror_mode": {
    "name": "ipython",
    "version": 3
   },
   "file_extension": ".py",
   "mimetype": "text/x-python",
   "name": "python",
   "nbconvert_exporter": "python",
   "pygments_lexer": "ipython3",
   "version": "3.10.15"
  }
 },
 "nbformat": 4,
 "nbformat_minor": 5
}
