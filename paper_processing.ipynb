{
 "cells": [
  {
   "cell_type": "code",
   "execution_count": 1,
   "id": "945a1a4f-2c66-4e93-9639-8ce96ee918a4",
   "metadata": {
    "tags": []
   },
   "outputs": [
    {
     "name": "stdout",
     "output_type": "stream",
     "text": [
      "INFO:paperscraper.load_dumps:Loaded biorxiv dump with 367505 entries\n",
      "WARNING:paperscraper.load_dumps: No dump found for chemrxiv. Skipping entry.\n",
      "INFO:paperscraper.load_dumps:Loaded medrxiv dump with 78791 entries\n"
     ]
    }
   ],
   "source": [
    "from paperscraper.get_dumps import biorxiv, medrxiv, chemrxiv\n",
    "import json\n",
    "import pandas as pd"
   ]
  },
  {
   "cell_type": "code",
   "execution_count": null,
   "id": "d943abff-c3e1-40bd-b6d9-b93f2b21d4ad",
   "metadata": {},
   "outputs": [],
   "source": [
    "medrxiv()"
   ]
  },
  {
   "cell_type": "code",
   "execution_count": null,
   "id": "ee4c8bf4-c07e-4f90-b717-80c2a92a44ee",
   "metadata": {},
   "outputs": [],
   "source": [
    "biorxiv()"
   ]
  },
  {
   "cell_type": "code",
   "execution_count": 16,
   "id": "f1c2a7fc-4931-4675-853b-f45afd0c26c8",
   "metadata": {
    "tags": []
   },
   "outputs": [
    {
     "name": "stdout",
     "output_type": "stream",
     "text": [
      "                                               title               doi  \\\n",
      "0  Molecular profiling of neonatal dried blood sp...  10.1101/19000109   \n",
      "5  Crohns disease and ulcerative colitis patient ...  10.1101/19000273   \n",
      "6  Updating Insights into Rosiglitazone and Cardi...  10.1101/19000463   \n",
      "7  Predicting epileptic seizures using nonnegativ...  10.1101/19000430   \n",
      "8  Prospective and External Evaluation of a Machi...  10.1101/19000133   \n",
      "\n",
      "                                             authors  \\\n",
      "0  Daniel Costa; Nuria Bonet; Amanda Sole; Jose M...   \n",
      "5  Orna G Ehrlich; James Testaverde; Caren Heller...   \n",
      "6  Joshua D Wallach; Kun Wang; Audrey D Zhang; De...   \n",
      "7                    Olivera Stojanovic; Gordon Pipa   \n",
      "8  Nathan Brajer; Brian Cozzi; Michael Gao; Mike ...   \n",
      "\n",
      "                                            abstract        date journal  \n",
      "0  The fetal inflammatory response (FIR) increase...  2019-06-25          \n",
      "5  BackgroundClinical trial recruitment is often ...  2019-06-25          \n",
      "6  ObjectiveTo conduct a systematic review and me...  2019-06-25          \n",
      "7  This paper presents a procedure for the patien...  2019-06-25          \n",
      "8  The ability to accurately predict in-hospital ...  2019-06-25          \n",
      "63018\n"
     ]
    }
   ],
   "source": [
    "import json\n",
    "import pandas as pd\n",
    "\n",
    "med_file_path = '/nfs/users/nfs_b/bc13/anaconda3/envs/juniper/lib/python3.10/site-packages/paperscraper/server_dumps/medrxiv_2025-02-02.jsonl'\n",
    "\n",
    "medpapers = []\n",
    "with open(med_file_path, 'r') as f:\n",
    "    for line in f:\n",
    "        meddata = json.loads(line)\n",
    "        medpapers.append(meddata)\n",
    "\n",
    "med_df = pd.DataFrame(medpapers)\n",
    "med_df.drop_duplicates(subset=['doi'], inplace=True) # Keep only the first occurrence of each DOI\n",
    "\n",
    "print(med_df.head())\n",
    "print(len(med_df))"
   ]
  },
  {
   "cell_type": "code",
   "execution_count": 8,
   "id": "b4bcd96e-ae89-437e-81e1-86410d3e841a",
   "metadata": {
    "tags": []
   },
   "outputs": [
    {
     "name": "stdout",
     "output_type": "stream",
     "text": [
      "                                               title             doi  \\\n",
      "0  Population genomics of Saccharomyces cerevisia...  10.1101/001891   \n",
      "1  Estimating seed bank accumulation and dynamics...  10.1101/001867   \n",
      "2  How and where to look for tRNAs in Metazoan mi...  10.1101/001875   \n",
      "4  Tracking global changes induced in the CD4 T c...  10.1101/001883   \n",
      "5  The shrinking human protein coding complement:...  10.1101/001909   \n",
      "\n",
      "                                             authors  \\\n",
      "0  Carlotta De Filippo;Monica Di Paola;Irene Stef...   \n",
      "1    Meaghan E. Jenkins;David Morrison;Tony D. Auld;   \n",
      "2                                    David Morrison;   \n",
      "4  Niclas Thomas;Katharine Best;Mattia Cinelli;Sh...   \n",
      "5  Iakes Ezkurdia;David Juan;Jose Manuel Rodrigue...   \n",
      "\n",
      "                                            abstract        date journal  \n",
      "0  The quest for the ecological niches of Sacchar...  2014-01-17          \n",
      "1  The seed bank dynamics of the three co-occurri...  2014-01-17          \n",
      "2  The ability to locate and annotate mitochondri...  2014-01-17          \n",
      "4  The clonal theory of adaptive immunity propose...  2014-01-17          \n",
      "5  Determining the full complement of protein-cod...  2014-01-17          \n",
      "266432\n"
     ]
    }
   ],
   "source": [
    "bio_file_path = '/nfs/users/nfs_b/bc13/anaconda3/envs/juniper/lib/python3.10/site-packages/paperscraper/server_dumps/biorxiv_2025-02-02.jsonl'\n",
    "\n",
    "biopapers = []\n",
    "with open(bio_file_path, 'r') as f:\n",
    "    for line in f:\n",
    "        biodata = json.loads(line)\n",
    "        biopapers.append(biodata)\n",
    "\n",
    "bio_df = pd.DataFrame(biopapers)\n",
    "bio_df.drop_duplicates(subset=['doi'], inplace=True) # Keep only the first occurrence of each DOI\n",
    "\n",
    "print(bio_df.head())\n",
    "print(len(bio_df))"
   ]
  },
  {
   "cell_type": "code",
   "execution_count": 9,
   "id": "68723989-87dd-4e19-945e-a28539a7ddec",
   "metadata": {
    "tags": []
   },
   "outputs": [],
   "source": [
    "bio_head = bio_df.head()"
   ]
  },
  {
   "cell_type": "code",
   "execution_count": 12,
   "id": "846b76df-e8f6-4d86-a814-28fffc7af09b",
   "metadata": {
    "tags": []
   },
   "outputs": [],
   "source": [
    "import requests\n",
    "import json\n",
    "from urllib.parse import quote\n",
    "import time\n",
    "from tqdm import tqdm\n",
    "import pandas as pd\n",
    "\n",
    "def fetch_reference_count(doi):\n",
    "    \"\"\"\n",
    "    Fetches the 'is-referenced-by-count' for a given DOI from the Crossref API.\n",
    "\n",
    "    Args:\n",
    "        doi (str): The DOI string to look up.\n",
    "\n",
    "    Returns:\n",
    "        int or None: The references count if successful, None if there was an error.\n",
    "    \"\"\"\n",
    "    base_url = \"https://api.crossref.org/works/\"\n",
    "    # URL encode the DOI to handle special characters\n",
    "    encoded_doi = quote(doi)\n",
    "    api_url = base_url + encoded_doi\n",
    "\n",
    "    headers = {\n",
    "        'User-Agent': 'DOIReferenceCounter/1.0 (https://example.org/DOIReferenceCounter; mailto:your-email@example.org)' # Replace with your info\n",
    "    }\n",
    "\n",
    "    try:\n",
    "        response = requests.get(api_url, headers=headers)\n",
    "        response.raise_for_status()  # Raise an exception for HTTP errors (4xx or 5xx)\n",
    "\n",
    "        data = response.json()\n",
    "\n",
    "        if data['status'] == 'ok':\n",
    "            message = data['message']\n",
    "            if 'is-referenced-by-count' in message:\n",
    "                return message['is-referenced-by-count']\n",
    "            else:\n",
    "                print(f\"Warning: 'is-referenced-by-count' not found in the response for DOI: {doi}\")\n",
    "                return None\n",
    "        else:\n",
    "            print(f\"Error: API request was not 'ok' for DOI: {doi}. Status: {data['status']}\")\n",
    "            return None\n",
    "\n",
    "    except requests.exceptions.HTTPError as http_err:\n",
    "        print(f\"HTTP error occurred for DOI: {doi}: {http_err}\")\n",
    "        if response.status_code == 404:\n",
    "            print(f\"  DOI not found: {doi}\") # Specific message for 404\n",
    "        elif response.status_code == 429:\n",
    "            print(f\"  Rate limit exceeded (429) for DOI: {doi}. You might be making requests too fast.\")\n",
    "        return None\n",
    "    except requests.exceptions.RequestException as req_err:\n",
    "        print(f\"Request error occurred for DOI: {doi}: {req_err}\")\n",
    "        return None\n",
    "    except json.JSONDecodeError as json_err:\n",
    "        print(f\"JSON decode error for DOI: {doi}: {json_err}. Response text: {response.text}\")\n",
    "        return None\n",
    "    except KeyError as key_err:\n",
    "        print(f\"Key error accessing JSON for DOI: {doi}: {key_err}.  Check the API response structure.\")\n",
    "        return None\n",
    "\n",
    "\n",
    "def add_citation_counts_to_df(df):\n",
    "    \"\"\"\n",
    "    Fetches citation counts for DOIs in the input dataframe and adds them as a new column.\n",
    "    This function now operates on a copy of the input DataFrame to avoid modifying the original.\n",
    "\n",
    "    Args:\n",
    "        df (pd.DataFrame): DataFrame containing a 'doi' column.\n",
    "\n",
    "    Returns:\n",
    "        pd.DataFrame: A *copy* of the DataFrame with an added 'citation_number' column containing citation counts.\n",
    "    \"\"\"\n",
    "    df_copy = df.copy() # Create a copy of the input DataFrame\n",
    "\n",
    "    # Get DOI list from the dataframe\n",
    "    doi_list = df_copy[\"doi\"].unique().tolist() # Use unique DOIs to avoid redundant requests if DOIs are repeated\n",
    "\n",
    "    # Initialize a new column in the copied dataframe to store citation counts\n",
    "    df_copy['citation_number'] = None\n",
    "\n",
    "    print(\"Fetching reference counts for DOIs and adding to DataFrame (aiming for ~50 requests/second):\")\n",
    "\n",
    "    request_count = 0\n",
    "    start_time = time.time()\n",
    "\n",
    "    for index, row in tqdm(df_copy.iterrows(), total=len(df_copy), desc=\"Processing DOIs\"): # Wrap with tqdm\n",
    "        doi = row[\"doi\"]\n",
    "        reference_count = fetch_reference_count(doi) # Assuming fetch_reference_count is defined elsewhere\n",
    "\n",
    "        # Add the citation count to the 'citation_number' column in the copied DataFrame\n",
    "        df_copy.loc[index, 'citation_number'] = reference_count\n",
    "\n",
    "        request_count += 1\n",
    "        elapsed_time = time.time() - start_time\n",
    "\n",
    "        if request_count >= 50: # Check if we've made 50 requests\n",
    "            if elapsed_time < 1: # If less than 1 second has passed, sleep for the remaining time\n",
    "                sleep_duration = 1 - elapsed_time\n",
    "                if sleep_duration > 0: # Ensure sleep duration is not negative\n",
    "                    time.sleep(sleep_duration)\n",
    "            start_time = time.time() # Reset the start time for the next second\n",
    "            request_count = 0       # Reset the request count for the next second\n",
    "\n",
    "    return df_copy"
   ]
  },
  {
   "cell_type": "code",
   "execution_count": 17,
   "id": "b455c211-afec-470d-aaea-e259653c11e7",
   "metadata": {
    "tags": []
   },
   "outputs": [
    {
     "name": "stdout",
     "output_type": "stream",
     "text": [
      "Fetching reference counts for DOIs and adding to DataFrame (aiming for ~50 requests/second):\n"
     ]
    },
    {
     "name": "stderr",
     "output_type": "stream",
     "text": [
      "Processing DOIs:   8%|▊         | 4881/63018 [25:36<5:04:22,  3.18it/s] "
     ]
    },
    {
     "name": "stdout",
     "output_type": "stream",
     "text": [
      "HTTP error occurred for DOI: 10.1101/2020.05.09.20096354: 404 Client Error: Not Found for url: https://api.crossref.org/works/10.1101/2020.05.09.20096354\n",
      "  DOI not found: 10.1101/2020.05.09.20096354\n"
     ]
    },
    {
     "name": "stderr",
     "output_type": "stream",
     "text": [
      "Processing DOIs:   8%|▊         | 5267/63018 [27:37<4:58:26,  3.23it/s]"
     ]
    },
    {
     "name": "stdout",
     "output_type": "stream",
     "text": [
      "HTTP error occurred for DOI: 10.1101/2020.05.14.20099234: 404 Client Error: Not Found for url: https://api.crossref.org/works/10.1101/2020.05.14.20099234\n",
      "  DOI not found: 10.1101/2020.05.14.20099234\n"
     ]
    },
    {
     "name": "stderr",
     "output_type": "stream",
     "text": [
      "Processing DOIs:   8%|▊         | 5268/63018 [27:37<4:56:29,  3.25it/s]"
     ]
    },
    {
     "name": "stdout",
     "output_type": "stream",
     "text": [
      "HTTP error occurred for DOI: 10.1101/2020.05.13.20101113: 404 Client Error: Not Found for url: https://api.crossref.org/works/10.1101/2020.05.13.20101113\n",
      "  DOI not found: 10.1101/2020.05.13.20101113\n"
     ]
    },
    {
     "name": "stderr",
     "output_type": "stream",
     "text": [
      "Processing DOIs:  23%|██▎       | 14514/63018 [1:15:42<4:06:01,  3.29it/s]"
     ]
    },
    {
     "name": "stdout",
     "output_type": "stream",
     "text": [
      "HTTP error occurred for DOI: 10.1101/2020.12.11.20245035: 404 Client Error: Not Found for url: https://api.crossref.org/works/10.1101/2020.12.11.20245035\n",
      "  DOI not found: 10.1101/2020.12.11.20245035\n"
     ]
    },
    {
     "name": "stderr",
     "output_type": "stream",
     "text": [
      "Processing DOIs:  23%|██▎       | 14577/63018 [1:16:01<5:00:15,  2.69it/s]"
     ]
    },
    {
     "name": "stdout",
     "output_type": "stream",
     "text": [
      "HTTP error occurred for DOI: 10.1101/2020.12.15.20248167: 404 Client Error: Not Found for url: https://api.crossref.org/works/10.1101/2020.12.15.20248167\n",
      "  DOI not found: 10.1101/2020.12.15.20248167\n"
     ]
    },
    {
     "name": "stderr",
     "output_type": "stream",
     "text": [
      "Processing DOIs:  36%|███▌      | 22563/63018 [1:57:34<3:24:55,  3.29it/s]"
     ]
    },
    {
     "name": "stdout",
     "output_type": "stream",
     "text": [
      "HTTP error occurred for DOI: 10.1101/2021.07.21.21260881: 404 Client Error: Not Found for url: https://api.crossref.org/works/10.1101/2021.07.21.21260881\n",
      "  DOI not found: 10.1101/2021.07.21.21260881\n"
     ]
    },
    {
     "name": "stderr",
     "output_type": "stream",
     "text": [
      "Processing DOIs:  36%|███▌      | 22564/63018 [1:57:34<3:23:16,  3.32it/s]"
     ]
    },
    {
     "name": "stdout",
     "output_type": "stream",
     "text": [
      "HTTP error occurred for DOI: 10.1101/2021.07.18.21260738: 404 Client Error: Not Found for url: https://api.crossref.org/works/10.1101/2021.07.18.21260738\n",
      "  DOI not found: 10.1101/2021.07.18.21260738\n"
     ]
    },
    {
     "name": "stderr",
     "output_type": "stream",
     "text": [
      "Processing DOIs:  36%|███▌      | 22570/63018 [1:57:36<3:24:41,  3.29it/s]"
     ]
    },
    {
     "name": "stdout",
     "output_type": "stream",
     "text": [
      "HTTP error occurred for DOI: 10.1101/2021.07.21.21260103: 404 Client Error: Not Found for url: https://api.crossref.org/works/10.1101/2021.07.21.21260103\n",
      "  DOI not found: 10.1101/2021.07.21.21260103\n"
     ]
    },
    {
     "name": "stderr",
     "output_type": "stream",
     "text": [
      "Processing DOIs:  36%|███▌      | 22575/63018 [1:57:37<3:25:11,  3.29it/s]"
     ]
    },
    {
     "name": "stdout",
     "output_type": "stream",
     "text": [
      "HTTP error occurred for DOI: 10.1101/2021.07.17.21260620: 404 Client Error: Not Found for url: https://api.crossref.org/works/10.1101/2021.07.17.21260620\n",
      "  DOI not found: 10.1101/2021.07.17.21260620\n"
     ]
    },
    {
     "name": "stderr",
     "output_type": "stream",
     "text": [
      "Processing DOIs:  36%|███▌      | 22585/63018 [1:57:40<3:26:16,  3.27it/s]"
     ]
    },
    {
     "name": "stdout",
     "output_type": "stream",
     "text": [
      "HTTP error occurred for DOI: 10.1101/2021.07.20.21260850: 404 Client Error: Not Found for url: https://api.crossref.org/works/10.1101/2021.07.20.21260850\n",
      "  DOI not found: 10.1101/2021.07.20.21260850\n"
     ]
    },
    {
     "name": "stderr",
     "output_type": "stream",
     "text": [
      "Processing DOIs:  41%|████      | 25532/63018 [2:12:58<3:11:23,  3.26it/s]"
     ]
    },
    {
     "name": "stdout",
     "output_type": "stream",
     "text": [
      "HTTP error occurred for DOI: 10.1101/2021.10.18.21264728: 404 Client Error: Not Found for url: https://api.crossref.org/works/10.1101/2021.10.18.21264728\n",
      "  DOI not found: 10.1101/2021.10.18.21264728\n"
     ]
    },
    {
     "name": "stderr",
     "output_type": "stream",
     "text": [
      "Processing DOIs:  43%|████▎     | 26979/63018 [2:20:30<3:03:42,  3.27it/s]"
     ]
    },
    {
     "name": "stdout",
     "output_type": "stream",
     "text": [
      "HTTP error occurred for DOI: 10.1101/2021.12.10.21267608: 404 Client Error: Not Found for url: https://api.crossref.org/works/10.1101/2021.12.10.21267608\n",
      "  DOI not found: 10.1101/2021.12.10.21267608\n"
     ]
    },
    {
     "name": "stderr",
     "output_type": "stream",
     "text": [
      "Processing DOIs:  48%|████▊     | 30266/63018 [2:37:36<2:47:11,  3.26it/s]"
     ]
    },
    {
     "name": "stdout",
     "output_type": "stream",
     "text": [
      "HTTP error occurred for DOI: 10.1101/2022.03.17.22272451: 404 Client Error: Not Found for url: https://api.crossref.org/works/10.1101/2022.03.17.22272451\n",
      "  DOI not found: 10.1101/2022.03.17.22272451\n"
     ]
    },
    {
     "name": "stderr",
     "output_type": "stream",
     "text": [
      "Processing DOIs:  50%|████▉     | 31236/63018 [2:42:40<2:42:37,  3.26it/s]"
     ]
    },
    {
     "name": "stdout",
     "output_type": "stream",
     "text": [
      "HTTP error occurred for DOI: 10.1101/2022.04.18.22273977: 404 Client Error: Not Found for url: https://api.crossref.org/works/10.1101/2022.04.18.22273977\n",
      "  DOI not found: 10.1101/2022.04.18.22273977\n"
     ]
    },
    {
     "name": "stderr",
     "output_type": "stream",
     "text": [
      "Processing DOIs:  50%|████▉     | 31386/63018 [2:43:27<2:52:51,  3.05it/s]"
     ]
    },
    {
     "name": "stdout",
     "output_type": "stream",
     "text": [
      "HTTP error occurred for DOI: 10.1101/2022.04.22.22274171: 404 Client Error: Not Found for url: https://api.crossref.org/works/10.1101/2022.04.22.22274171\n",
      "  DOI not found: 10.1101/2022.04.22.22274171\n"
     ]
    },
    {
     "name": "stderr",
     "output_type": "stream",
     "text": [
      "Processing DOIs:  50%|████▉     | 31391/63018 [2:43:29<2:42:03,  3.25it/s]"
     ]
    },
    {
     "name": "stdout",
     "output_type": "stream",
     "text": [
      "HTTP error occurred for DOI: 10.1101/2022.04.22.22274153: 404 Client Error: Not Found for url: https://api.crossref.org/works/10.1101/2022.04.22.22274153\n",
      "  DOI not found: 10.1101/2022.04.22.22274153\n"
     ]
    },
    {
     "name": "stderr",
     "output_type": "stream",
     "text": [
      "Processing DOIs:  50%|█████     | 31787/63018 [2:45:31<2:39:22,  3.27it/s]"
     ]
    },
    {
     "name": "stdout",
     "output_type": "stream",
     "text": [
      "HTTP error occurred for DOI: 10.1101/2022.05.10.22274894: 404 Client Error: Not Found for url: https://api.crossref.org/works/10.1101/2022.05.10.22274894\n",
      "  DOI not found: 10.1101/2022.05.10.22274894\n"
     ]
    },
    {
     "name": "stderr",
     "output_type": "stream",
     "text": [
      "Processing DOIs:  51%|█████     | 31974/63018 [2:46:29<2:37:40,  3.28it/s]"
     ]
    },
    {
     "name": "stdout",
     "output_type": "stream",
     "text": [
      "HTTP error occurred for DOI: 10.1101/2022.05.10.22274920: 404 Client Error: Not Found for url: https://api.crossref.org/works/10.1101/2022.05.10.22274920\n",
      "  DOI not found: 10.1101/2022.05.10.22274920\n"
     ]
    },
    {
     "name": "stderr",
     "output_type": "stream",
     "text": [
      "Processing DOIs:  51%|█████     | 32132/63018 [2:47:18<2:36:15,  3.29it/s]"
     ]
    },
    {
     "name": "stdout",
     "output_type": "stream",
     "text": [
      "HTTP error occurred for DOI: 10.1101/2022.05.18.22275239: 404 Client Error: Not Found for url: https://api.crossref.org/works/10.1101/2022.05.18.22275239\n",
      "  DOI not found: 10.1101/2022.05.18.22275239\n"
     ]
    },
    {
     "name": "stderr",
     "output_type": "stream",
     "text": [
      "Processing DOIs:  52%|█████▏    | 32701/63018 [2:50:15<2:33:30,  3.29it/s]"
     ]
    },
    {
     "name": "stdout",
     "output_type": "stream",
     "text": [
      "HTTP error occurred for DOI: 10.1101/2022.06.07.22276118: 404 Client Error: Not Found for url: https://api.crossref.org/works/10.1101/2022.06.07.22276118\n",
      "  DOI not found: 10.1101/2022.06.07.22276118\n"
     ]
    },
    {
     "name": "stderr",
     "output_type": "stream",
     "text": [
      "Processing DOIs:  53%|█████▎    | 33400/63018 [2:53:54<2:31:12,  3.26it/s]"
     ]
    },
    {
     "name": "stdout",
     "output_type": "stream",
     "text": [
      "HTTP error occurred for DOI: 10.1101/2022.06.30.22277095: 404 Client Error: Not Found for url: https://api.crossref.org/works/10.1101/2022.06.30.22277095\n",
      "  DOI not found: 10.1101/2022.06.30.22277095\n"
     ]
    },
    {
     "name": "stderr",
     "output_type": "stream",
     "text": [
      "Processing DOIs:  54%|█████▎    | 33733/63018 [2:55:37<2:27:30,  3.31it/s]"
     ]
    },
    {
     "name": "stdout",
     "output_type": "stream",
     "text": [
      "HTTP error occurred for DOI: 10.1101/2022.07.12.22277543: 404 Client Error: Not Found for url: https://api.crossref.org/works/10.1101/2022.07.12.22277543\n",
      "  DOI not found: 10.1101/2022.07.12.22277543\n"
     ]
    },
    {
     "name": "stderr",
     "output_type": "stream",
     "text": [
      "Processing DOIs:  61%|██████    | 38486/63018 [3:20:48<2:10:40,  3.13it/s]"
     ]
    },
    {
     "name": "stdout",
     "output_type": "stream",
     "text": [
      "HTTP error occurred for DOI: 10.1101/2023.01.17.23284661: 404 Client Error: Not Found for url: https://api.crossref.org/works/10.1101/2023.01.17.23284661\n",
      "  DOI not found: 10.1101/2023.01.17.23284661\n"
     ]
    },
    {
     "name": "stderr",
     "output_type": "stream",
     "text": [
      "Processing DOIs:  64%|██████▎   | 40091/63018 [3:29:33<1:57:22,  3.26it/s]"
     ]
    },
    {
     "name": "stdout",
     "output_type": "stream",
     "text": [
      "HTTP error occurred for DOI: 10.1101/2023.03.09.23287075: 404 Client Error: Not Found for url: https://api.crossref.org/works/10.1101/2023.03.09.23287075\n",
      "  DOI not found: 10.1101/2023.03.09.23287075\n"
     ]
    },
    {
     "name": "stderr",
     "output_type": "stream",
     "text": [
      "Processing DOIs:  64%|██████▎   | 40123/63018 [3:29:44<2:01:58,  3.13it/s]"
     ]
    },
    {
     "name": "stdout",
     "output_type": "stream",
     "text": [
      "HTTP error occurred for DOI: 10.1101/2023.03.13.23287212: 404 Client Error: Not Found for url: https://api.crossref.org/works/10.1101/2023.03.13.23287212\n",
      "  DOI not found: 10.1101/2023.03.13.23287212\n"
     ]
    },
    {
     "name": "stderr",
     "output_type": "stream",
     "text": [
      "Processing DOIs:  64%|██████▎   | 40136/63018 [3:29:48<2:02:53,  3.10it/s]"
     ]
    },
    {
     "name": "stdout",
     "output_type": "stream",
     "text": [
      "HTTP error occurred for DOI: 10.1101/2023.03.13.23287203: 404 Client Error: Not Found for url: https://api.crossref.org/works/10.1101/2023.03.13.23287203\n",
      "  DOI not found: 10.1101/2023.03.13.23287203\n"
     ]
    },
    {
     "name": "stderr",
     "output_type": "stream",
     "text": [
      "Processing DOIs:  64%|██████▍   | 40347/63018 [3:30:58<2:04:41,  3.03it/s]"
     ]
    },
    {
     "name": "stdout",
     "output_type": "stream",
     "text": [
      "HTTP error occurred for DOI: 10.1101/2023.03.17.23287218: 404 Client Error: Not Found for url: https://api.crossref.org/works/10.1101/2023.03.17.23287218\n",
      "  DOI not found: 10.1101/2023.03.17.23287218\n"
     ]
    },
    {
     "name": "stderr",
     "output_type": "stream",
     "text": [
      "Processing DOIs:  64%|██████▍   | 40357/63018 [3:31:01<2:06:11,  2.99it/s]"
     ]
    },
    {
     "name": "stdout",
     "output_type": "stream",
     "text": [
      "HTTP error occurred for DOI: 10.1101/2023.03.19.23287358: 404 Client Error: Not Found for url: https://api.crossref.org/works/10.1101/2023.03.19.23287358\n",
      "  DOI not found: 10.1101/2023.03.19.23287358\n"
     ]
    },
    {
     "name": "stderr",
     "output_type": "stream",
     "text": [
      "Processing DOIs:  64%|██████▍   | 40378/63018 [3:31:08<2:00:01,  3.14it/s]"
     ]
    },
    {
     "name": "stdout",
     "output_type": "stream",
     "text": [
      "HTTP error occurred for DOI: 10.1101/2023.03.21.23287536: 404 Client Error: Not Found for url: https://api.crossref.org/works/10.1101/2023.03.21.23287536\n",
      "  DOI not found: 10.1101/2023.03.21.23287536\n"
     ]
    },
    {
     "name": "stderr",
     "output_type": "stream",
     "text": [
      "Processing DOIs:  64%|██████▍   | 40404/63018 [3:31:17<2:21:08,  2.67it/s]"
     ]
    },
    {
     "name": "stdout",
     "output_type": "stream",
     "text": [
      "HTTP error occurred for DOI: 10.1101/2023.03.22.23287587: 404 Client Error: Not Found for url: https://api.crossref.org/works/10.1101/2023.03.22.23287587\n",
      "  DOI not found: 10.1101/2023.03.22.23287587\n"
     ]
    },
    {
     "name": "stderr",
     "output_type": "stream",
     "text": [
      "Processing DOIs:  64%|██████▍   | 40431/63018 [3:31:26<1:57:57,  3.19it/s]"
     ]
    },
    {
     "name": "stdout",
     "output_type": "stream",
     "text": [
      "HTTP error occurred for DOI: 10.1101/2023.03.23.23287637: 404 Client Error: Not Found for url: https://api.crossref.org/works/10.1101/2023.03.23.23287637\n",
      "  DOI not found: 10.1101/2023.03.23.23287637\n"
     ]
    },
    {
     "name": "stderr",
     "output_type": "stream",
     "text": [
      "Processing DOIs:  64%|██████▍   | 40447/63018 [3:31:31<2:01:03,  3.11it/s]"
     ]
    },
    {
     "name": "stdout",
     "output_type": "stream",
     "text": [
      "HTTP error occurred for DOI: 10.1101/2023.03.23.23287628: 404 Client Error: Not Found for url: https://api.crossref.org/works/10.1101/2023.03.23.23287628\n",
      "  DOI not found: 10.1101/2023.03.23.23287628\n"
     ]
    },
    {
     "name": "stderr",
     "output_type": "stream",
     "text": [
      "Processing DOIs:  64%|██████▍   | 40493/63018 [3:31:46<2:03:44,  3.03it/s]"
     ]
    },
    {
     "name": "stdout",
     "output_type": "stream",
     "text": [
      "HTTP error occurred for DOI: 10.1101/2023.03.27.23287778: 404 Client Error: Not Found for url: https://api.crossref.org/works/10.1101/2023.03.27.23287778\n",
      "  DOI not found: 10.1101/2023.03.27.23287778\n"
     ]
    },
    {
     "name": "stderr",
     "output_type": "stream",
     "text": [
      "Processing DOIs:  72%|███████▏  | 45119/63018 [3:56:06<1:30:37,  3.29it/s]"
     ]
    },
    {
     "name": "stdout",
     "output_type": "stream",
     "text": [
      "HTTP error occurred for DOI: 10.1101/2023.08.26.23294679: 404 Client Error: Not Found for url: https://api.crossref.org/works/10.1101/2023.08.26.23294679\n",
      "  DOI not found: 10.1101/2023.08.26.23294679\n"
     ]
    },
    {
     "name": "stderr",
     "output_type": "stream",
     "text": [
      "Processing DOIs:  76%|███████▌  | 47843/63018 [4:10:20<1:22:52,  3.05it/s]"
     ]
    },
    {
     "name": "stdout",
     "output_type": "stream",
     "text": [
      "HTTP error occurred for DOI: 10.1101/2023.11.18.23298724: 404 Client Error: Not Found for url: https://api.crossref.org/works/10.1101/2023.11.18.23298724\n",
      "  DOI not found: 10.1101/2023.11.18.23298724\n"
     ]
    },
    {
     "name": "stderr",
     "output_type": "stream",
     "text": [
      "Processing DOIs:  78%|███████▊  | 49056/63018 [4:16:40<1:12:53,  3.19it/s]"
     ]
    },
    {
     "name": "stdout",
     "output_type": "stream",
     "text": [
      "HTTP error occurred for DOI: 10.1101/2023.12.28.23300552: 404 Client Error: Not Found for url: https://api.crossref.org/works/10.1101/2023.12.28.23300552\n",
      "  DOI not found: 10.1101/2023.12.28.23300552\n"
     ]
    },
    {
     "name": "stderr",
     "output_type": "stream",
     "text": [
      "Processing DOIs:  82%|████████▏ | 51960/63018 [4:31:47<56:30,  3.26it/s]  "
     ]
    },
    {
     "name": "stdout",
     "output_type": "stream",
     "text": [
      "HTTP error occurred for DOI: 10.1101/2024.03.22.24304763: 404 Client Error: Not Found for url: https://api.crossref.org/works/10.1101/2024.03.22.24304763\n",
      "  DOI not found: 10.1101/2024.03.22.24304763\n"
     ]
    },
    {
     "name": "stderr",
     "output_type": "stream",
     "text": [
      "Processing DOIs:  82%|████████▏ | 51986/63018 [4:31:55<59:04,  3.11it/s]"
     ]
    },
    {
     "name": "stdout",
     "output_type": "stream",
     "text": [
      "HTTP error occurred for DOI: 10.1101/2024.03.26.24304926: 404 Client Error: Not Found for url: https://api.crossref.org/works/10.1101/2024.03.26.24304926\n",
      "  DOI not found: 10.1101/2024.03.26.24304926\n"
     ]
    },
    {
     "name": "stderr",
     "output_type": "stream",
     "text": [
      "Processing DOIs:  83%|████████▎ | 52609/63018 [4:35:10<53:15,  3.26it/s]  "
     ]
    },
    {
     "name": "stdout",
     "output_type": "stream",
     "text": [
      "HTTP error occurred for DOI: 10.1101/2024.04.15.24305820: 404 Client Error: Not Found for url: https://api.crossref.org/works/10.1101/2024.04.15.24305820\n",
      "  DOI not found: 10.1101/2024.04.15.24305820\n"
     ]
    },
    {
     "name": "stderr",
     "output_type": "stream",
     "text": [
      "Processing DOIs:  86%|████████▌ | 53983/63018 [4:42:21<49:29,  3.04it/s]  "
     ]
    },
    {
     "name": "stdout",
     "output_type": "stream",
     "text": [
      "HTTP error occurred for DOI: 10.1101/2024.05.23.24307808: 404 Client Error: Not Found for url: https://api.crossref.org/works/10.1101/2024.05.23.24307808\n",
      "  DOI not found: 10.1101/2024.05.23.24307808\n"
     ]
    },
    {
     "name": "stderr",
     "output_type": "stream",
     "text": [
      "Processing DOIs:  86%|████████▌ | 54106/63018 [4:43:00<45:29,  3.27it/s]"
     ]
    },
    {
     "name": "stdout",
     "output_type": "stream",
     "text": [
      "HTTP error occurred for DOI: 10.1101/2024.05.24.24307909: 404 Client Error: Not Found for url: https://api.crossref.org/works/10.1101/2024.05.24.24307909\n",
      "  DOI not found: 10.1101/2024.05.24.24307909\n"
     ]
    },
    {
     "name": "stderr",
     "output_type": "stream",
     "text": [
      "Processing DOIs:  88%|████████▊ | 55620/63018 [4:50:52<37:53,  3.25it/s]  "
     ]
    },
    {
     "name": "stdout",
     "output_type": "stream",
     "text": [
      "HTTP error occurred for DOI: 10.1101/2024.07.10.24310215: 404 Client Error: Not Found for url: https://api.crossref.org/works/10.1101/2024.07.10.24310215\n",
      "  DOI not found: 10.1101/2024.07.10.24310215\n"
     ]
    },
    {
     "name": "stderr",
     "output_type": "stream",
     "text": [
      "Processing DOIs:  90%|█████████ | 57002/63018 [4:58:06<30:57,  3.24it/s]  "
     ]
    },
    {
     "name": "stdout",
     "output_type": "stream",
     "text": [
      "HTTP error occurred for DOI: 10.1101/2024.08.20.24312307: 404 Client Error: Not Found for url: https://api.crossref.org/works/10.1101/2024.08.20.24312307\n",
      "  DOI not found: 10.1101/2024.08.20.24312307\n"
     ]
    },
    {
     "name": "stderr",
     "output_type": "stream",
     "text": [
      "Processing DOIs:  90%|█████████ | 57018/63018 [4:58:11<30:53,  3.24it/s]"
     ]
    },
    {
     "name": "stdout",
     "output_type": "stream",
     "text": [
      "HTTP error occurred for DOI: 10.1101/2024.08.21.24312350: 404 Client Error: Not Found for url: https://api.crossref.org/works/10.1101/2024.08.21.24312350\n",
      "  DOI not found: 10.1101/2024.08.21.24312350\n"
     ]
    },
    {
     "name": "stderr",
     "output_type": "stream",
     "text": [
      "Processing DOIs:  91%|█████████ | 57034/63018 [4:58:16<31:05,  3.21it/s]"
     ]
    },
    {
     "name": "stdout",
     "output_type": "stream",
     "text": [
      "HTTP error occurred for DOI: 10.1101/2024.08.20.24312284: 404 Client Error: Not Found for url: https://api.crossref.org/works/10.1101/2024.08.20.24312284\n",
      "  DOI not found: 10.1101/2024.08.20.24312284\n"
     ]
    },
    {
     "name": "stderr",
     "output_type": "stream",
     "text": [
      "Processing DOIs:  92%|█████████▏| 57960/63018 [5:03:05<25:54,  3.25it/s]  "
     ]
    },
    {
     "name": "stdout",
     "output_type": "stream",
     "text": [
      "HTTP error occurred for DOI: 10.1101/2024.09.15.24313716: 404 Client Error: Not Found for url: https://api.crossref.org/works/10.1101/2024.09.15.24313716\n",
      "  DOI not found: 10.1101/2024.09.15.24313716\n"
     ]
    },
    {
     "name": "stderr",
     "output_type": "stream",
     "text": [
      "Processing DOIs:  92%|█████████▏| 57971/63018 [5:03:08<25:52,  3.25it/s]"
     ]
    },
    {
     "name": "stdout",
     "output_type": "stream",
     "text": [
      "HTTP error occurred for DOI: 10.1101/2024.09.16.24313749: 404 Client Error: Not Found for url: https://api.crossref.org/works/10.1101/2024.09.16.24313749\n",
      "  DOI not found: 10.1101/2024.09.16.24313749\n"
     ]
    },
    {
     "name": "stderr",
     "output_type": "stream",
     "text": [
      "Processing DOIs:  92%|█████████▏| 57977/63018 [5:03:10<25:51,  3.25it/s]"
     ]
    },
    {
     "name": "stdout",
     "output_type": "stream",
     "text": [
      "HTTP error occurred for DOI: 10.1101/2024.09.16.24312391: 404 Client Error: Not Found for url: https://api.crossref.org/works/10.1101/2024.09.16.24312391\n",
      "  DOI not found: 10.1101/2024.09.16.24312391\n"
     ]
    },
    {
     "name": "stderr",
     "output_type": "stream",
     "text": [
      "Processing DOIs:  93%|█████████▎| 58865/63018 [5:07:47<21:09,  3.27it/s]"
     ]
    },
    {
     "name": "stdout",
     "output_type": "stream",
     "text": [
      "HTTP error occurred for DOI: 10.1101/2024.10.07.24314689: 404 Client Error: Not Found for url: https://api.crossref.org/works/10.1101/2024.10.07.24314689\n",
      "  DOI not found: 10.1101/2024.10.07.24314689\n"
     ]
    },
    {
     "name": "stderr",
     "output_type": "stream",
     "text": [
      "Processing DOIs:  97%|█████████▋| 61344/63018 [5:20:39<08:27,  3.30it/s]"
     ]
    },
    {
     "name": "stdout",
     "output_type": "stream",
     "text": [
      "HTTP error occurred for DOI: 10.1101/2024.12.10.24318751: 404 Client Error: Not Found for url: https://api.crossref.org/works/10.1101/2024.12.10.24318751\n",
      "  DOI not found: 10.1101/2024.12.10.24318751\n"
     ]
    },
    {
     "name": "stderr",
     "output_type": "stream",
     "text": [
      "Processing DOIs:  98%|█████████▊| 61510/63018 [5:21:31<07:41,  3.26it/s]"
     ]
    },
    {
     "name": "stdout",
     "output_type": "stream",
     "text": [
      "HTTP error occurred for DOI: 10.1101/2024.12.16.24319076: 404 Client Error: Not Found for url: https://api.crossref.org/works/10.1101/2024.12.16.24319076\n",
      "  DOI not found: 10.1101/2024.12.16.24319076\n"
     ]
    },
    {
     "name": "stderr",
     "output_type": "stream",
     "text": [
      "Processing DOIs:  98%|█████████▊| 61587/63018 [5:21:54<07:19,  3.26it/s]"
     ]
    },
    {
     "name": "stdout",
     "output_type": "stream",
     "text": [
      "HTTP error occurred for DOI: 10.1101/2024.12.17.24319140: 404 Client Error: Not Found for url: https://api.crossref.org/works/10.1101/2024.12.17.24319140\n",
      "  DOI not found: 10.1101/2024.12.17.24319140\n"
     ]
    },
    {
     "name": "stderr",
     "output_type": "stream",
     "text": [
      "Processing DOIs: 100%|██████████| 63018/63018 [5:29:20<00:00,  3.19it/s]\n"
     ]
    },
    {
     "name": "stdout",
     "output_type": "stream",
     "text": [
      "medRxiv DataFrame with citation counts saved as CSV.\n"
     ]
    }
   ],
   "source": [
    "final_med_df = add_citation_counts_to_df(med_df)\n",
    "final_med_df.to_csv(\"medrxiv_citations.csv\", index=False)\n",
    "\n",
    "final_med_df\n",
    "print(f\"medRxiv DataFrame with citation counts saved as CSV.\")"
   ]
  },
  {
   "cell_type": "code",
   "execution_count": null,
   "id": "59869cdd-fba6-4efa-9785-5b8f94aa4cb6",
   "metadata": {
    "tags": []
   },
   "outputs": [],
   "source": [
    "final_bio_df = add_citation_counts_to_df(bio_df)\n",
    "final_bio_df.to_csv(\"biorxiv_citations.csv\", index=False)\n",
    "\n",
    "final_bio_df\n",
    "print(f\"bioRxiv DataFrame with citation counts saved as CSV.\")"
   ]
  },
  {
   "cell_type": "code",
   "execution_count": 2,
   "id": "b9f6c10c-894b-474c-9940-6b92f3e6abac",
   "metadata": {},
   "outputs": [
    {
     "name": "stdout",
     "output_type": "stream",
     "text": [
      "Rows with empty or non-numeric 'citation_number' have been removed.\n"
     ]
    }
   ],
   "source": [
    "import pandas as pd\n",
    "\n",
    "df = pd.read_csv(\"medrxiv_citations.csv\")\n",
    "df = df.dropna(subset=[\"citation_number\"])\n",
    "df[\"citation_number\"] = pd.to_numeric(df[\"citation_number\"], errors=\"coerce\")\n",
    "df = df.dropna(subset=[\"citation_number\"])\n",
    "df[\"citation_number\"] = df[\"citation_number\"].astype(int)\n",
    "df.to_csv(\"medrxiv_data.csv\", index=False)\n",
    "\n",
    "print(\"Rows with empty or non-numeric 'citation_number' have been removed.\")"
   ]
  },
  {
   "cell_type": "code",
   "execution_count": 4,
   "id": "0dacd664-0a9e-4c11-9023-cd101498bee4",
   "metadata": {
    "tags": []
   },
   "outputs": [
    {
     "name": "stdout",
     "output_type": "stream",
     "text": [
      "Rows with empty or non-numeric 'citation_number' have been removed.\n",
      "Rows with empty or non-numeric 'citation_number' have been removed.\n",
      "Rows with empty or non-numeric 'citation_number' have been removed.\n",
      "Rows with empty or non-numeric 'citation_number' have been removed.\n"
     ]
    }
   ],
   "source": [
    "df = pd.read_csv(\"biorxiv_data.csv\")\n",
    "df = df.dropna(subset=[\"citation_number\"])\n",
    "df[\"citation_number\"] = pd.to_numeric(df[\"citation_number\"], errors=\"coerce\")\n",
    "df = df.dropna(subset=[\"citation_number\"])\n",
    "df[\"citation_number\"] = df[\"citation_number\"].astype(int)\n",
    "df.to_csv(\"biorxiv_data.csv\", index=False)\n",
    "\n",
    "print(\"Rows with empty or non-numeric 'citation_number' have been removed.\")"
   ]
  },
  {
   "cell_type": "code",
   "execution_count": 6,
   "id": "c9aded04-0e9c-4854-991f-d80f5dae35b2",
   "metadata": {
    "tags": []
   },
   "outputs": [
    {
     "data": {
      "text/html": [
       "<div>\n",
       "<style scoped>\n",
       "    .dataframe tbody tr th:only-of-type {\n",
       "        vertical-align: middle;\n",
       "    }\n",
       "\n",
       "    .dataframe tbody tr th {\n",
       "        vertical-align: top;\n",
       "    }\n",
       "\n",
       "    .dataframe thead th {\n",
       "        text-align: right;\n",
       "    }\n",
       "</style>\n",
       "<table border=\"1\" class=\"dataframe\">\n",
       "  <thead>\n",
       "    <tr style=\"text-align: right;\">\n",
       "      <th></th>\n",
       "      <th>title</th>\n",
       "      <th>doi</th>\n",
       "      <th>authors</th>\n",
       "      <th>abstract</th>\n",
       "      <th>date</th>\n",
       "      <th>journal</th>\n",
       "      <th>citation_number</th>\n",
       "    </tr>\n",
       "  </thead>\n",
       "  <tbody>\n",
       "    <tr>\n",
       "      <th>0</th>\n",
       "      <td>Cannabidiol administration reduces the express...</td>\n",
       "      <td>10.1101/2023.07.10.548420</td>\n",
       "      <td>Machado, J. P.; Almeida, V.; Zuardi, A. W.; Ha...</td>\n",
       "      <td>BackgroundCannabidiol (CBD), one of the main c...</td>\n",
       "      <td>2023-07-11</td>\n",
       "      <td>NaN</td>\n",
       "      <td>1.0</td>\n",
       "    </tr>\n",
       "    <tr>\n",
       "      <th>1</th>\n",
       "      <td>Comammox bacterial preference for urea influen...</td>\n",
       "      <td>10.1101/2023.07.11.548560</td>\n",
       "      <td>Vilardi, K. J.; Johnston, J.; Dai, Z.; Cotto, ...</td>\n",
       "      <td>While the co-existence of comammox bacteria wi...</td>\n",
       "      <td>2023-07-11</td>\n",
       "      <td>NaN</td>\n",
       "      <td>0.0</td>\n",
       "    </tr>\n",
       "    <tr>\n",
       "      <th>2</th>\n",
       "      <td>The distribution of fitness effects of plasmid...</td>\n",
       "      <td>10.1101/2023.07.11.548518</td>\n",
       "      <td>Fernandez-Calvet, A.; Toribio-Celestino, L.; A...</td>\n",
       "      <td>Antimicrobial resistance (AMR) in bacteria is ...</td>\n",
       "      <td>2023-07-11</td>\n",
       "      <td>NaN</td>\n",
       "      <td>0.0</td>\n",
       "    </tr>\n",
       "    <tr>\n",
       "      <th>3</th>\n",
       "      <td>Emiliania huxleyi virus arrests host calcifica...</td>\n",
       "      <td>10.1101/2023.07.11.548577</td>\n",
       "      <td>Dikstein, T.; Antler, G.; Pellerin, A.; Sharon...</td>\n",
       "      <td>Blooms of the coccolithophore Emiliania huxley...</td>\n",
       "      <td>2023-07-11</td>\n",
       "      <td>NaN</td>\n",
       "      <td>0.0</td>\n",
       "    </tr>\n",
       "    <tr>\n",
       "      <th>4</th>\n",
       "      <td>Amyloid β induces cardiac dysfunction and neur...</td>\n",
       "      <td>10.1101/2023.07.11.548558</td>\n",
       "      <td>Elia, A.; Parodi-Rullan, R. M.; Vazquez-Torres...</td>\n",
       "      <td>Aims: Alzheimers disease (AD) is a complex neu...</td>\n",
       "      <td>2023-07-11</td>\n",
       "      <td>NaN</td>\n",
       "      <td>0.0</td>\n",
       "    </tr>\n",
       "  </tbody>\n",
       "</table>\n",
       "</div>"
      ],
      "text/plain": [
       "                                               title  \\\n",
       "0  Cannabidiol administration reduces the express...   \n",
       "1  Comammox bacterial preference for urea influen...   \n",
       "2  The distribution of fitness effects of plasmid...   \n",
       "3  Emiliania huxleyi virus arrests host calcifica...   \n",
       "4  Amyloid β induces cardiac dysfunction and neur...   \n",
       "\n",
       "                         doi  \\\n",
       "0  10.1101/2023.07.10.548420   \n",
       "1  10.1101/2023.07.11.548560   \n",
       "2  10.1101/2023.07.11.548518   \n",
       "3  10.1101/2023.07.11.548577   \n",
       "4  10.1101/2023.07.11.548558   \n",
       "\n",
       "                                             authors  \\\n",
       "0  Machado, J. P.; Almeida, V.; Zuardi, A. W.; Ha...   \n",
       "1  Vilardi, K. J.; Johnston, J.; Dai, Z.; Cotto, ...   \n",
       "2  Fernandez-Calvet, A.; Toribio-Celestino, L.; A...   \n",
       "3  Dikstein, T.; Antler, G.; Pellerin, A.; Sharon...   \n",
       "4  Elia, A.; Parodi-Rullan, R. M.; Vazquez-Torres...   \n",
       "\n",
       "                                            abstract        date  journal  \\\n",
       "0  BackgroundCannabidiol (CBD), one of the main c...  2023-07-11      NaN   \n",
       "1  While the co-existence of comammox bacteria wi...  2023-07-11      NaN   \n",
       "2  Antimicrobial resistance (AMR) in bacteria is ...  2023-07-11      NaN   \n",
       "3  Blooms of the coccolithophore Emiliania huxley...  2023-07-11      NaN   \n",
       "4  Aims: Alzheimers disease (AD) is a complex neu...  2023-07-11      NaN   \n",
       "\n",
       "   citation_number  \n",
       "0              1.0  \n",
       "1              0.0  \n",
       "2              0.0  \n",
       "3              0.0  \n",
       "4              0.0  "
      ]
     },
     "execution_count": 6,
     "metadata": {},
     "output_type": "execute_result"
    }
   ],
   "source": [
    "df.head()"
   ]
  },
  {
   "cell_type": "code",
   "execution_count": 7,
   "id": "6638b18c-0f67-49bf-914c-3830f2b0b0b7",
   "metadata": {
    "tags": []
   },
   "outputs": [
    {
     "data": {
      "text/plain": [
       "66608"
      ]
     },
     "execution_count": 7,
     "metadata": {},
     "output_type": "execute_result"
    }
   ],
   "source": [
    "len(df)"
   ]
  },
  {
   "cell_type": "code",
   "execution_count": 8,
   "id": "9e04bc78-1bbc-48ac-b6a1-bd29f21e14af",
   "metadata": {
    "tags": []
   },
   "outputs": [
    {
     "data": {
      "text/plain": [
       "266432"
      ]
     },
     "execution_count": 8,
     "metadata": {},
     "output_type": "execute_result"
    }
   ],
   "source": [
    "df = pd.read_csv(\"biorxiv_data.csv\")\n",
    "len(df)"
   ]
  },
  {
   "cell_type": "code",
   "execution_count": 9,
   "id": "5971043e-c42f-46b1-a397-67f4d2290128",
   "metadata": {
    "tags": []
   },
   "outputs": [],
   "source": [
    "dates = df[\"date\"]"
   ]
  },
  {
   "cell_type": "code",
   "execution_count": 10,
   "id": "103327eb-6ab1-4952-bc77-7b98405bcd52",
   "metadata": {
    "tags": []
   },
   "outputs": [
    {
     "name": "stdout",
     "output_type": "stream",
     "text": [
      "2013      109\n",
      "2014      886\n",
      "2015     1773\n",
      "2016     4718\n",
      "2017    11338\n",
      "2018    20778\n",
      "2019    29179\n",
      "2020    38711\n",
      "2021    36819\n",
      "2022    35742\n",
      "2023    39146\n",
      "2024    43431\n",
      "2025     3802\n",
      "Name: year, dtype: int64\n"
     ]
    }
   ],
   "source": [
    "df['year'] = df['date'].astype(str).str[:4]\n",
    "papers_per_year = df['year'].value_counts().sort_index()\n",
    "print(papers_per_year)"
   ]
  },
  {
   "cell_type": "code",
   "execution_count": 11,
   "id": "b2acc98c-0e04-4131-9c48-7b77358495f4",
   "metadata": {
    "tags": []
   },
   "outputs": [],
   "source": [
    "import requests\n",
    "import pandas as pd\n",
    "import time\n",
    "\n",
    "dois = df['doi'].sample(n=100, random_state=42)  # Use random_state for reproducibility\n",
    "\n",
    "# API Base URL\n",
    "API_URL = \"https://eutils.ncbi.nlm.nih.gov/entrez/eutils/esearch.fcgi\"\n",
    "\n",
    "# Function to check DOI in PubMed\n",
    "def check_doi_in_pubmed(doi):\n",
    "    params = {\n",
    "        \"db\": \"pubmed\",\n",
    "        \"term\": f\"{doi}[DOI]\",\n",
    "        \"retmode\": \"json\"\n",
    "    }\n",
    "    response = requests.get(API_URL, params=params)\n",
    "    if response.status_code == 200:\n",
    "        data = response.json()\n",
    "        pmids = data.get(\"esearchresult\", {}).get(\"idlist\", [])\n",
    "        return pmids[0] if pmids else None\n",
    "    return None\n",
    "\n",
    "# Process all DOIs\n",
    "results = []\n",
    "for i, doi in enumerate(dois):\n",
    "    pmid = check_doi_in_pubmed(doi)\n",
    "    results.append({\"DOI\": doi, \"PMID\": pmid})\n",
    "    \n",
    "    # Print progress every 1000 DOIs\n",
    "    if (i + 1) % 1000 == 0:\n",
    "        print(f\"Checked {i + 1}/{len(dois)} DOIs...\")\n",
    "    \n",
    "    # Respect NCBI rate limits\n",
    "    time.sleep(0.3)  # Adjust if necessary\n",
    "\n",
    "# Save results to a CSV file\n",
    "pmid_df = pd.DataFrame(results)"
   ]
  },
  {
   "cell_type": "code",
   "execution_count": 15,
   "id": "b9169bb9-3aaf-4aa1-8e1c-3ff23e6ed1a1",
   "metadata": {
    "tags": []
   },
   "outputs": [
    {
     "name": "stdout",
     "output_type": "stream",
     "text": [
      "Combined CSV file saved as 'biomedrxiv_data.csv'.\n",
      "Filtered CSV file saved as 'filtered_biomedrxiv_data.csv'.\n"
     ]
    }
   ],
   "source": [
    "import pandas as pd\n",
    "\n",
    "# Read the CSV files\n",
    "df_biorxiv = pd.read_csv('biorxiv_data.csv')\n",
    "df_medrxiv = pd.read_csv('medrxiv_data.csv')\n",
    "\n",
    "# Concatenate the DataFrames\n",
    "df_combined = pd.concat([df_biorxiv, df_medrxiv], ignore_index=True)\n",
    "\n",
    "# Save the concatenated DataFrame to a new CSV file\n",
    "df_combined.to_csv('biomedrxiv_data.csv', index=False)\n",
    "print(\"Combined CSV file saved as 'biomedrxiv_data.csv'.\")\n",
    "\n",
    "# Ensure the 'date' column is in datetime format\n",
    "df_combined['date'] = pd.to_datetime(df_combined['date'], errors='coerce')\n",
    "\n",
    "# Define the cutoff date (after June 2020 means dates > June 30, 2020)\n",
    "cutoff_date = pd.to_datetime('2020-06-01')\n",
    "\n",
    "# Filter the DataFrame for rows with dates after the cutoff\n",
    "df_filtered = df_combined[df_combined['date'] > cutoff_date]\n",
    "\n",
    "# Save the filtered DataFrame to a new CSV file\n",
    "df_filtered.to_csv('filtered_biomedrxiv_data.csv', index=False)\n",
    "print(\"Filtered CSV file saved as 'filtered_biomedrxiv_data.csv'.\")"
   ]
  },
  {
   "cell_type": "code",
   "execution_count": 16,
   "id": "de6ba5a5-6970-4909-922c-e2a4e25c7d02",
   "metadata": {
    "tags": []
   },
   "outputs": [],
   "source": [
    "df_biomedrxiv = pd.read_csv('filtered_biomedrxiv_data.csv')"
   ]
  },
  {
   "cell_type": "code",
   "execution_count": 18,
   "id": "af4b49ff-8057-4a4d-8a66-cc57b10dcb10",
   "metadata": {
    "tags": []
   },
   "outputs": [
    {
     "name": "stderr",
     "output_type": "stream",
     "text": [
      "Processing DOIs:   0%|          | 438/238703 [04:05<37:05:00,  1.78it/s]\n"
     ]
    },
    {
     "ename": "KeyboardInterrupt",
     "evalue": "",
     "output_type": "error",
     "traceback": [
      "\u001b[0;31m---------------------------------------------------------------------------\u001b[0m",
      "\u001b[0;31mKeyboardInterrupt\u001b[0m                         Traceback (most recent call last)",
      "Cell \u001b[0;32mIn[18], line 54\u001b[0m\n\u001b[1;32m     52\u001b[0m \u001b[38;5;66;03m# Use tqdm to wrap the iteration over DOIs\u001b[39;00m\n\u001b[1;32m     53\u001b[0m \u001b[38;5;28;01mfor\u001b[39;00m doi \u001b[38;5;129;01min\u001b[39;00m tqdm(dois, desc\u001b[38;5;241m=\u001b[39m\u001b[38;5;124m\"\u001b[39m\u001b[38;5;124mProcessing DOIs\u001b[39m\u001b[38;5;124m\"\u001b[39m):\n\u001b[0;32m---> 54\u001b[0m     doi_result, pmid \u001b[38;5;241m=\u001b[39m \u001b[43mcheck_doi_in_pubmed\u001b[49m\u001b[43m(\u001b[49m\u001b[43mdoi\u001b[49m\u001b[43m)\u001b[49m\n\u001b[1;32m     55\u001b[0m     results\u001b[38;5;241m.\u001b[39mappend({\u001b[38;5;124m\"\u001b[39m\u001b[38;5;124mDOI\u001b[39m\u001b[38;5;124m\"\u001b[39m: doi_result, \u001b[38;5;124m\"\u001b[39m\u001b[38;5;124mPMID\u001b[39m\u001b[38;5;124m\"\u001b[39m: pmid})\n\u001b[1;32m     57\u001b[0m     \u001b[38;5;66;03m# Sleep 0.1 seconds to ensure not more than 10 requests per second.\u001b[39;00m\n",
      "Cell \u001b[0;32mIn[18], line 32\u001b[0m, in \u001b[0;36mcheck_doi_in_pubmed\u001b[0;34m(doi)\u001b[0m\n\u001b[1;32m     30\u001b[0m \u001b[38;5;28;01mwhile\u001b[39;00m retries \u001b[38;5;241m>\u001b[39m \u001b[38;5;241m0\u001b[39m:\n\u001b[1;32m     31\u001b[0m     \u001b[38;5;28;01mtry\u001b[39;00m:\n\u001b[0;32m---> 32\u001b[0m         response \u001b[38;5;241m=\u001b[39m \u001b[43mrequests\u001b[49m\u001b[38;5;241;43m.\u001b[39;49m\u001b[43mget\u001b[49m\u001b[43m(\u001b[49m\u001b[43mAPI_URL\u001b[49m\u001b[43m,\u001b[49m\u001b[43m \u001b[49m\u001b[43mparams\u001b[49m\u001b[38;5;241;43m=\u001b[39;49m\u001b[43mparams\u001b[49m\u001b[43m,\u001b[49m\u001b[43m \u001b[49m\u001b[43mtimeout\u001b[49m\u001b[38;5;241;43m=\u001b[39;49m\u001b[38;5;241;43m5\u001b[39;49m\u001b[43m)\u001b[49m\n\u001b[1;32m     33\u001b[0m         \u001b[38;5;28;01mif\u001b[39;00m response\u001b[38;5;241m.\u001b[39mstatus_code \u001b[38;5;241m==\u001b[39m \u001b[38;5;241m200\u001b[39m:\n\u001b[1;32m     34\u001b[0m             data \u001b[38;5;241m=\u001b[39m response\u001b[38;5;241m.\u001b[39mjson()\n",
      "File \u001b[0;32m~/anaconda3/envs/juniper/lib/python3.10/site-packages/requests/api.py:73\u001b[0m, in \u001b[0;36mget\u001b[0;34m(url, params, **kwargs)\u001b[0m\n\u001b[1;32m     62\u001b[0m \u001b[38;5;28;01mdef\u001b[39;00m\u001b[38;5;250m \u001b[39m\u001b[38;5;21mget\u001b[39m(url, params\u001b[38;5;241m=\u001b[39m\u001b[38;5;28;01mNone\u001b[39;00m, \u001b[38;5;241m*\u001b[39m\u001b[38;5;241m*\u001b[39mkwargs):\n\u001b[1;32m     63\u001b[0m \u001b[38;5;250m    \u001b[39m\u001b[38;5;124mr\u001b[39m\u001b[38;5;124;03m\"\"\"Sends a GET request.\u001b[39;00m\n\u001b[1;32m     64\u001b[0m \n\u001b[1;32m     65\u001b[0m \u001b[38;5;124;03m    :param url: URL for the new :class:`Request` object.\u001b[39;00m\n\u001b[0;32m   (...)\u001b[0m\n\u001b[1;32m     70\u001b[0m \u001b[38;5;124;03m    :rtype: requests.Response\u001b[39;00m\n\u001b[1;32m     71\u001b[0m \u001b[38;5;124;03m    \"\"\"\u001b[39;00m\n\u001b[0;32m---> 73\u001b[0m     \u001b[38;5;28;01mreturn\u001b[39;00m \u001b[43mrequest\u001b[49m\u001b[43m(\u001b[49m\u001b[38;5;124;43m\"\u001b[39;49m\u001b[38;5;124;43mget\u001b[39;49m\u001b[38;5;124;43m\"\u001b[39;49m\u001b[43m,\u001b[49m\u001b[43m \u001b[49m\u001b[43murl\u001b[49m\u001b[43m,\u001b[49m\u001b[43m \u001b[49m\u001b[43mparams\u001b[49m\u001b[38;5;241;43m=\u001b[39;49m\u001b[43mparams\u001b[49m\u001b[43m,\u001b[49m\u001b[43m \u001b[49m\u001b[38;5;241;43m*\u001b[39;49m\u001b[38;5;241;43m*\u001b[39;49m\u001b[43mkwargs\u001b[49m\u001b[43m)\u001b[49m\n",
      "File \u001b[0;32m~/anaconda3/envs/juniper/lib/python3.10/site-packages/requests/api.py:59\u001b[0m, in \u001b[0;36mrequest\u001b[0;34m(method, url, **kwargs)\u001b[0m\n\u001b[1;32m     55\u001b[0m \u001b[38;5;66;03m# By using the 'with' statement we are sure the session is closed, thus we\u001b[39;00m\n\u001b[1;32m     56\u001b[0m \u001b[38;5;66;03m# avoid leaving sockets open which can trigger a ResourceWarning in some\u001b[39;00m\n\u001b[1;32m     57\u001b[0m \u001b[38;5;66;03m# cases, and look like a memory leak in others.\u001b[39;00m\n\u001b[1;32m     58\u001b[0m \u001b[38;5;28;01mwith\u001b[39;00m sessions\u001b[38;5;241m.\u001b[39mSession() \u001b[38;5;28;01mas\u001b[39;00m session:\n\u001b[0;32m---> 59\u001b[0m     \u001b[38;5;28;01mreturn\u001b[39;00m \u001b[43msession\u001b[49m\u001b[38;5;241;43m.\u001b[39;49m\u001b[43mrequest\u001b[49m\u001b[43m(\u001b[49m\u001b[43mmethod\u001b[49m\u001b[38;5;241;43m=\u001b[39;49m\u001b[43mmethod\u001b[49m\u001b[43m,\u001b[49m\u001b[43m \u001b[49m\u001b[43murl\u001b[49m\u001b[38;5;241;43m=\u001b[39;49m\u001b[43murl\u001b[49m\u001b[43m,\u001b[49m\u001b[43m \u001b[49m\u001b[38;5;241;43m*\u001b[39;49m\u001b[38;5;241;43m*\u001b[39;49m\u001b[43mkwargs\u001b[49m\u001b[43m)\u001b[49m\n",
      "File \u001b[0;32m~/anaconda3/envs/juniper/lib/python3.10/site-packages/requests/sessions.py:589\u001b[0m, in \u001b[0;36mSession.request\u001b[0;34m(self, method, url, params, data, headers, cookies, files, auth, timeout, allow_redirects, proxies, hooks, stream, verify, cert, json)\u001b[0m\n\u001b[1;32m    584\u001b[0m send_kwargs \u001b[38;5;241m=\u001b[39m {\n\u001b[1;32m    585\u001b[0m     \u001b[38;5;124m\"\u001b[39m\u001b[38;5;124mtimeout\u001b[39m\u001b[38;5;124m\"\u001b[39m: timeout,\n\u001b[1;32m    586\u001b[0m     \u001b[38;5;124m\"\u001b[39m\u001b[38;5;124mallow_redirects\u001b[39m\u001b[38;5;124m\"\u001b[39m: allow_redirects,\n\u001b[1;32m    587\u001b[0m }\n\u001b[1;32m    588\u001b[0m send_kwargs\u001b[38;5;241m.\u001b[39mupdate(settings)\n\u001b[0;32m--> 589\u001b[0m resp \u001b[38;5;241m=\u001b[39m \u001b[38;5;28;43mself\u001b[39;49m\u001b[38;5;241;43m.\u001b[39;49m\u001b[43msend\u001b[49m\u001b[43m(\u001b[49m\u001b[43mprep\u001b[49m\u001b[43m,\u001b[49m\u001b[43m \u001b[49m\u001b[38;5;241;43m*\u001b[39;49m\u001b[38;5;241;43m*\u001b[39;49m\u001b[43msend_kwargs\u001b[49m\u001b[43m)\u001b[49m\n\u001b[1;32m    591\u001b[0m \u001b[38;5;28;01mreturn\u001b[39;00m resp\n",
      "File \u001b[0;32m~/anaconda3/envs/juniper/lib/python3.10/site-packages/requests/sessions.py:703\u001b[0m, in \u001b[0;36mSession.send\u001b[0;34m(self, request, **kwargs)\u001b[0m\n\u001b[1;32m    700\u001b[0m start \u001b[38;5;241m=\u001b[39m preferred_clock()\n\u001b[1;32m    702\u001b[0m \u001b[38;5;66;03m# Send the request\u001b[39;00m\n\u001b[0;32m--> 703\u001b[0m r \u001b[38;5;241m=\u001b[39m \u001b[43madapter\u001b[49m\u001b[38;5;241;43m.\u001b[39;49m\u001b[43msend\u001b[49m\u001b[43m(\u001b[49m\u001b[43mrequest\u001b[49m\u001b[43m,\u001b[49m\u001b[43m \u001b[49m\u001b[38;5;241;43m*\u001b[39;49m\u001b[38;5;241;43m*\u001b[39;49m\u001b[43mkwargs\u001b[49m\u001b[43m)\u001b[49m\n\u001b[1;32m    705\u001b[0m \u001b[38;5;66;03m# Total elapsed time of the request (approximately)\u001b[39;00m\n\u001b[1;32m    706\u001b[0m elapsed \u001b[38;5;241m=\u001b[39m preferred_clock() \u001b[38;5;241m-\u001b[39m start\n",
      "File \u001b[0;32m~/anaconda3/envs/juniper/lib/python3.10/site-packages/requests/adapters.py:667\u001b[0m, in \u001b[0;36mHTTPAdapter.send\u001b[0;34m(self, request, stream, timeout, verify, cert, proxies)\u001b[0m\n\u001b[1;32m    664\u001b[0m     timeout \u001b[38;5;241m=\u001b[39m TimeoutSauce(connect\u001b[38;5;241m=\u001b[39mtimeout, read\u001b[38;5;241m=\u001b[39mtimeout)\n\u001b[1;32m    666\u001b[0m \u001b[38;5;28;01mtry\u001b[39;00m:\n\u001b[0;32m--> 667\u001b[0m     resp \u001b[38;5;241m=\u001b[39m \u001b[43mconn\u001b[49m\u001b[38;5;241;43m.\u001b[39;49m\u001b[43murlopen\u001b[49m\u001b[43m(\u001b[49m\n\u001b[1;32m    668\u001b[0m \u001b[43m        \u001b[49m\u001b[43mmethod\u001b[49m\u001b[38;5;241;43m=\u001b[39;49m\u001b[43mrequest\u001b[49m\u001b[38;5;241;43m.\u001b[39;49m\u001b[43mmethod\u001b[49m\u001b[43m,\u001b[49m\n\u001b[1;32m    669\u001b[0m \u001b[43m        \u001b[49m\u001b[43murl\u001b[49m\u001b[38;5;241;43m=\u001b[39;49m\u001b[43murl\u001b[49m\u001b[43m,\u001b[49m\n\u001b[1;32m    670\u001b[0m \u001b[43m        \u001b[49m\u001b[43mbody\u001b[49m\u001b[38;5;241;43m=\u001b[39;49m\u001b[43mrequest\u001b[49m\u001b[38;5;241;43m.\u001b[39;49m\u001b[43mbody\u001b[49m\u001b[43m,\u001b[49m\n\u001b[1;32m    671\u001b[0m \u001b[43m        \u001b[49m\u001b[43mheaders\u001b[49m\u001b[38;5;241;43m=\u001b[39;49m\u001b[43mrequest\u001b[49m\u001b[38;5;241;43m.\u001b[39;49m\u001b[43mheaders\u001b[49m\u001b[43m,\u001b[49m\n\u001b[1;32m    672\u001b[0m \u001b[43m        \u001b[49m\u001b[43mredirect\u001b[49m\u001b[38;5;241;43m=\u001b[39;49m\u001b[38;5;28;43;01mFalse\u001b[39;49;00m\u001b[43m,\u001b[49m\n\u001b[1;32m    673\u001b[0m \u001b[43m        \u001b[49m\u001b[43massert_same_host\u001b[49m\u001b[38;5;241;43m=\u001b[39;49m\u001b[38;5;28;43;01mFalse\u001b[39;49;00m\u001b[43m,\u001b[49m\n\u001b[1;32m    674\u001b[0m \u001b[43m        \u001b[49m\u001b[43mpreload_content\u001b[49m\u001b[38;5;241;43m=\u001b[39;49m\u001b[38;5;28;43;01mFalse\u001b[39;49;00m\u001b[43m,\u001b[49m\n\u001b[1;32m    675\u001b[0m \u001b[43m        \u001b[49m\u001b[43mdecode_content\u001b[49m\u001b[38;5;241;43m=\u001b[39;49m\u001b[38;5;28;43;01mFalse\u001b[39;49;00m\u001b[43m,\u001b[49m\n\u001b[1;32m    676\u001b[0m \u001b[43m        \u001b[49m\u001b[43mretries\u001b[49m\u001b[38;5;241;43m=\u001b[39;49m\u001b[38;5;28;43mself\u001b[39;49m\u001b[38;5;241;43m.\u001b[39;49m\u001b[43mmax_retries\u001b[49m\u001b[43m,\u001b[49m\n\u001b[1;32m    677\u001b[0m \u001b[43m        \u001b[49m\u001b[43mtimeout\u001b[49m\u001b[38;5;241;43m=\u001b[39;49m\u001b[43mtimeout\u001b[49m\u001b[43m,\u001b[49m\n\u001b[1;32m    678\u001b[0m \u001b[43m        \u001b[49m\u001b[43mchunked\u001b[49m\u001b[38;5;241;43m=\u001b[39;49m\u001b[43mchunked\u001b[49m\u001b[43m,\u001b[49m\n\u001b[1;32m    679\u001b[0m \u001b[43m    \u001b[49m\u001b[43m)\u001b[49m\n\u001b[1;32m    681\u001b[0m \u001b[38;5;28;01mexcept\u001b[39;00m (ProtocolError, \u001b[38;5;167;01mOSError\u001b[39;00m) \u001b[38;5;28;01mas\u001b[39;00m err:\n\u001b[1;32m    682\u001b[0m     \u001b[38;5;28;01mraise\u001b[39;00m \u001b[38;5;167;01mConnectionError\u001b[39;00m(err, request\u001b[38;5;241m=\u001b[39mrequest)\n",
      "File \u001b[0;32m~/anaconda3/envs/juniper/lib/python3.10/site-packages/urllib3/connectionpool.py:787\u001b[0m, in \u001b[0;36mHTTPConnectionPool.urlopen\u001b[0;34m(self, method, url, body, headers, retries, redirect, assert_same_host, timeout, pool_timeout, release_conn, chunked, body_pos, preload_content, decode_content, **response_kw)\u001b[0m\n\u001b[1;32m    784\u001b[0m response_conn \u001b[38;5;241m=\u001b[39m conn \u001b[38;5;28;01mif\u001b[39;00m \u001b[38;5;129;01mnot\u001b[39;00m release_conn \u001b[38;5;28;01melse\u001b[39;00m \u001b[38;5;28;01mNone\u001b[39;00m\n\u001b[1;32m    786\u001b[0m \u001b[38;5;66;03m# Make the request on the HTTPConnection object\u001b[39;00m\n\u001b[0;32m--> 787\u001b[0m response \u001b[38;5;241m=\u001b[39m \u001b[38;5;28;43mself\u001b[39;49m\u001b[38;5;241;43m.\u001b[39;49m\u001b[43m_make_request\u001b[49m\u001b[43m(\u001b[49m\n\u001b[1;32m    788\u001b[0m \u001b[43m    \u001b[49m\u001b[43mconn\u001b[49m\u001b[43m,\u001b[49m\n\u001b[1;32m    789\u001b[0m \u001b[43m    \u001b[49m\u001b[43mmethod\u001b[49m\u001b[43m,\u001b[49m\n\u001b[1;32m    790\u001b[0m \u001b[43m    \u001b[49m\u001b[43murl\u001b[49m\u001b[43m,\u001b[49m\n\u001b[1;32m    791\u001b[0m \u001b[43m    \u001b[49m\u001b[43mtimeout\u001b[49m\u001b[38;5;241;43m=\u001b[39;49m\u001b[43mtimeout_obj\u001b[49m\u001b[43m,\u001b[49m\n\u001b[1;32m    792\u001b[0m \u001b[43m    \u001b[49m\u001b[43mbody\u001b[49m\u001b[38;5;241;43m=\u001b[39;49m\u001b[43mbody\u001b[49m\u001b[43m,\u001b[49m\n\u001b[1;32m    793\u001b[0m \u001b[43m    \u001b[49m\u001b[43mheaders\u001b[49m\u001b[38;5;241;43m=\u001b[39;49m\u001b[43mheaders\u001b[49m\u001b[43m,\u001b[49m\n\u001b[1;32m    794\u001b[0m \u001b[43m    \u001b[49m\u001b[43mchunked\u001b[49m\u001b[38;5;241;43m=\u001b[39;49m\u001b[43mchunked\u001b[49m\u001b[43m,\u001b[49m\n\u001b[1;32m    795\u001b[0m \u001b[43m    \u001b[49m\u001b[43mretries\u001b[49m\u001b[38;5;241;43m=\u001b[39;49m\u001b[43mretries\u001b[49m\u001b[43m,\u001b[49m\n\u001b[1;32m    796\u001b[0m \u001b[43m    \u001b[49m\u001b[43mresponse_conn\u001b[49m\u001b[38;5;241;43m=\u001b[39;49m\u001b[43mresponse_conn\u001b[49m\u001b[43m,\u001b[49m\n\u001b[1;32m    797\u001b[0m \u001b[43m    \u001b[49m\u001b[43mpreload_content\u001b[49m\u001b[38;5;241;43m=\u001b[39;49m\u001b[43mpreload_content\u001b[49m\u001b[43m,\u001b[49m\n\u001b[1;32m    798\u001b[0m \u001b[43m    \u001b[49m\u001b[43mdecode_content\u001b[49m\u001b[38;5;241;43m=\u001b[39;49m\u001b[43mdecode_content\u001b[49m\u001b[43m,\u001b[49m\n\u001b[1;32m    799\u001b[0m \u001b[43m    \u001b[49m\u001b[38;5;241;43m*\u001b[39;49m\u001b[38;5;241;43m*\u001b[39;49m\u001b[43mresponse_kw\u001b[49m\u001b[43m,\u001b[49m\n\u001b[1;32m    800\u001b[0m \u001b[43m\u001b[49m\u001b[43m)\u001b[49m\n\u001b[1;32m    802\u001b[0m \u001b[38;5;66;03m# Everything went great!\u001b[39;00m\n\u001b[1;32m    803\u001b[0m clean_exit \u001b[38;5;241m=\u001b[39m \u001b[38;5;28;01mTrue\u001b[39;00m\n",
      "File \u001b[0;32m~/anaconda3/envs/juniper/lib/python3.10/site-packages/urllib3/connectionpool.py:464\u001b[0m, in \u001b[0;36mHTTPConnectionPool._make_request\u001b[0;34m(self, conn, method, url, body, headers, retries, timeout, chunked, response_conn, preload_content, decode_content, enforce_content_length)\u001b[0m\n\u001b[1;32m    461\u001b[0m \u001b[38;5;28;01mtry\u001b[39;00m:\n\u001b[1;32m    462\u001b[0m     \u001b[38;5;66;03m# Trigger any extra validation we need to do.\u001b[39;00m\n\u001b[1;32m    463\u001b[0m     \u001b[38;5;28;01mtry\u001b[39;00m:\n\u001b[0;32m--> 464\u001b[0m         \u001b[38;5;28;43mself\u001b[39;49m\u001b[38;5;241;43m.\u001b[39;49m\u001b[43m_validate_conn\u001b[49m\u001b[43m(\u001b[49m\u001b[43mconn\u001b[49m\u001b[43m)\u001b[49m\n\u001b[1;32m    465\u001b[0m     \u001b[38;5;28;01mexcept\u001b[39;00m (SocketTimeout, BaseSSLError) \u001b[38;5;28;01mas\u001b[39;00m e:\n\u001b[1;32m    466\u001b[0m         \u001b[38;5;28mself\u001b[39m\u001b[38;5;241m.\u001b[39m_raise_timeout(err\u001b[38;5;241m=\u001b[39me, url\u001b[38;5;241m=\u001b[39murl, timeout_value\u001b[38;5;241m=\u001b[39mconn\u001b[38;5;241m.\u001b[39mtimeout)\n",
      "File \u001b[0;32m~/anaconda3/envs/juniper/lib/python3.10/site-packages/urllib3/connectionpool.py:1093\u001b[0m, in \u001b[0;36mHTTPSConnectionPool._validate_conn\u001b[0;34m(self, conn)\u001b[0m\n\u001b[1;32m   1091\u001b[0m \u001b[38;5;66;03m# Force connect early to allow us to validate the connection.\u001b[39;00m\n\u001b[1;32m   1092\u001b[0m \u001b[38;5;28;01mif\u001b[39;00m conn\u001b[38;5;241m.\u001b[39mis_closed:\n\u001b[0;32m-> 1093\u001b[0m     \u001b[43mconn\u001b[49m\u001b[38;5;241;43m.\u001b[39;49m\u001b[43mconnect\u001b[49m\u001b[43m(\u001b[49m\u001b[43m)\u001b[49m\n\u001b[1;32m   1095\u001b[0m \u001b[38;5;66;03m# TODO revise this, see https://github.com/urllib3/urllib3/issues/2791\u001b[39;00m\n\u001b[1;32m   1096\u001b[0m \u001b[38;5;28;01mif\u001b[39;00m \u001b[38;5;129;01mnot\u001b[39;00m conn\u001b[38;5;241m.\u001b[39mis_verified \u001b[38;5;129;01mand\u001b[39;00m \u001b[38;5;129;01mnot\u001b[39;00m conn\u001b[38;5;241m.\u001b[39mproxy_is_verified:\n",
      "File \u001b[0;32m~/anaconda3/envs/juniper/lib/python3.10/site-packages/urllib3/connection.py:704\u001b[0m, in \u001b[0;36mHTTPSConnection.connect\u001b[0;34m(self)\u001b[0m\n\u001b[1;32m    702\u001b[0m \u001b[38;5;28;01mtry\u001b[39;00m:\n\u001b[1;32m    703\u001b[0m     sock: socket\u001b[38;5;241m.\u001b[39msocket \u001b[38;5;241m|\u001b[39m ssl\u001b[38;5;241m.\u001b[39mSSLSocket\n\u001b[0;32m--> 704\u001b[0m     \u001b[38;5;28mself\u001b[39m\u001b[38;5;241m.\u001b[39msock \u001b[38;5;241m=\u001b[39m sock \u001b[38;5;241m=\u001b[39m \u001b[38;5;28;43mself\u001b[39;49m\u001b[38;5;241;43m.\u001b[39;49m\u001b[43m_new_conn\u001b[49m\u001b[43m(\u001b[49m\u001b[43m)\u001b[49m\n\u001b[1;32m    705\u001b[0m     server_hostname: \u001b[38;5;28mstr\u001b[39m \u001b[38;5;241m=\u001b[39m \u001b[38;5;28mself\u001b[39m\u001b[38;5;241m.\u001b[39mhost\n\u001b[1;32m    706\u001b[0m     tls_in_tls \u001b[38;5;241m=\u001b[39m \u001b[38;5;28;01mFalse\u001b[39;00m\n",
      "File \u001b[0;32m~/anaconda3/envs/juniper/lib/python3.10/site-packages/urllib3/connection.py:198\u001b[0m, in \u001b[0;36mHTTPConnection._new_conn\u001b[0;34m(self)\u001b[0m\n\u001b[1;32m    193\u001b[0m \u001b[38;5;250m\u001b[39m\u001b[38;5;124;03m\"\"\"Establish a socket connection and set nodelay settings on it.\u001b[39;00m\n\u001b[1;32m    194\u001b[0m \n\u001b[1;32m    195\u001b[0m \u001b[38;5;124;03m:return: New socket connection.\u001b[39;00m\n\u001b[1;32m    196\u001b[0m \u001b[38;5;124;03m\"\"\"\u001b[39;00m\n\u001b[1;32m    197\u001b[0m \u001b[38;5;28;01mtry\u001b[39;00m:\n\u001b[0;32m--> 198\u001b[0m     sock \u001b[38;5;241m=\u001b[39m \u001b[43mconnection\u001b[49m\u001b[38;5;241;43m.\u001b[39;49m\u001b[43mcreate_connection\u001b[49m\u001b[43m(\u001b[49m\n\u001b[1;32m    199\u001b[0m \u001b[43m        \u001b[49m\u001b[43m(\u001b[49m\u001b[38;5;28;43mself\u001b[39;49m\u001b[38;5;241;43m.\u001b[39;49m\u001b[43m_dns_host\u001b[49m\u001b[43m,\u001b[49m\u001b[43m \u001b[49m\u001b[38;5;28;43mself\u001b[39;49m\u001b[38;5;241;43m.\u001b[39;49m\u001b[43mport\u001b[49m\u001b[43m)\u001b[49m\u001b[43m,\u001b[49m\n\u001b[1;32m    200\u001b[0m \u001b[43m        \u001b[49m\u001b[38;5;28;43mself\u001b[39;49m\u001b[38;5;241;43m.\u001b[39;49m\u001b[43mtimeout\u001b[49m\u001b[43m,\u001b[49m\n\u001b[1;32m    201\u001b[0m \u001b[43m        \u001b[49m\u001b[43msource_address\u001b[49m\u001b[38;5;241;43m=\u001b[39;49m\u001b[38;5;28;43mself\u001b[39;49m\u001b[38;5;241;43m.\u001b[39;49m\u001b[43msource_address\u001b[49m\u001b[43m,\u001b[49m\n\u001b[1;32m    202\u001b[0m \u001b[43m        \u001b[49m\u001b[43msocket_options\u001b[49m\u001b[38;5;241;43m=\u001b[39;49m\u001b[38;5;28;43mself\u001b[39;49m\u001b[38;5;241;43m.\u001b[39;49m\u001b[43msocket_options\u001b[49m\u001b[43m,\u001b[49m\n\u001b[1;32m    203\u001b[0m \u001b[43m    \u001b[49m\u001b[43m)\u001b[49m\n\u001b[1;32m    204\u001b[0m \u001b[38;5;28;01mexcept\u001b[39;00m socket\u001b[38;5;241m.\u001b[39mgaierror \u001b[38;5;28;01mas\u001b[39;00m e:\n\u001b[1;32m    205\u001b[0m     \u001b[38;5;28;01mraise\u001b[39;00m NameResolutionError(\u001b[38;5;28mself\u001b[39m\u001b[38;5;241m.\u001b[39mhost, \u001b[38;5;28mself\u001b[39m, e) \u001b[38;5;28;01mfrom\u001b[39;00m\u001b[38;5;250m \u001b[39m\u001b[38;5;21;01me\u001b[39;00m\n",
      "File \u001b[0;32m~/anaconda3/envs/juniper/lib/python3.10/site-packages/urllib3/util/connection.py:73\u001b[0m, in \u001b[0;36mcreate_connection\u001b[0;34m(address, timeout, source_address, socket_options)\u001b[0m\n\u001b[1;32m     71\u001b[0m \u001b[38;5;28;01mif\u001b[39;00m source_address:\n\u001b[1;32m     72\u001b[0m     sock\u001b[38;5;241m.\u001b[39mbind(source_address)\n\u001b[0;32m---> 73\u001b[0m \u001b[43msock\u001b[49m\u001b[38;5;241;43m.\u001b[39;49m\u001b[43mconnect\u001b[49m\u001b[43m(\u001b[49m\u001b[43msa\u001b[49m\u001b[43m)\u001b[49m\n\u001b[1;32m     74\u001b[0m \u001b[38;5;66;03m# Break explicitly a reference cycle\u001b[39;00m\n\u001b[1;32m     75\u001b[0m err \u001b[38;5;241m=\u001b[39m \u001b[38;5;28;01mNone\u001b[39;00m\n",
      "\u001b[0;31mKeyboardInterrupt\u001b[0m: "
     ]
    }
   ],
   "source": [
    "import time\n",
    "import requests\n",
    "import pandas as pd\n",
    "import nest_asyncio\n",
    "nest_asyncio.apply()  # Patch the running event loop to allow nested use\n",
    "import aiohttp         # <-- Make sure this is imported\n",
    "\n",
    "from aiolimiter import AsyncLimiter\n",
    "import asyncio\n",
    "from tqdm import tqdm  # regular tqdm for synchronous iteration\n",
    "from tqdm.asyncio import tqdm_asyncio  # provides asynchronous progress bars\n",
    "\n",
    "# API Key (Replace with your actual key)\n",
    "API_KEY = \"309f14f8a79a4cb31832fe44e6f991fcaa09\"\n",
    "\n",
    "# API Base URL\n",
    "API_URL = \"https://eutils.ncbi.nlm.nih.gov/entrez/eutils/esearch.fcgi\"\n",
    "\n",
    "# List of DOIs to check\n",
    "dois = df_biomedrxiv[\"doi\"].tolist()\n",
    "\n",
    "def check_doi_in_pubmed(doi):\n",
    "    params = {\n",
    "        \"db\": \"pubmed\",\n",
    "        \"term\": f\"{doi}[DOI]\",\n",
    "        \"retmode\": \"json\",\n",
    "        \"api_key\": API_KEY  # Use API key for faster lookups\n",
    "    }\n",
    "    retries = 3  # Maximum number of retries per DOI\n",
    "    while retries > 0:\n",
    "        try:\n",
    "            response = requests.get(API_URL, params=params, timeout=5)\n",
    "            if response.status_code == 200:\n",
    "                data = response.json()\n",
    "                pmids = data.get(\"esearchresult\", {}).get(\"idlist\", [])\n",
    "                return doi, pmids[0] if pmids else None\n",
    "            elif response.status_code == 429:\n",
    "                print(f\"Rate limit hit for DOI {doi}, sleeping for 2 seconds...\")\n",
    "                time.sleep(2)\n",
    "            else:\n",
    "                print(f\"Error {response.status_code} for DOI: {doi}\")\n",
    "                return doi, None\n",
    "        except requests.exceptions.RequestException as e:\n",
    "            print(f\"Request error for DOI {doi}: {e}\")\n",
    "        retries -= 1\n",
    "        time.sleep(2)  # Delay before retrying\n",
    "    return doi, None\n",
    "\n",
    "results = []\n",
    "start_time = time.time()\n",
    "\n",
    "# Use tqdm to wrap the iteration over DOIs\n",
    "for doi in tqdm(dois, desc=\"Processing DOIs\"):\n",
    "    doi_result, pmid = check_doi_in_pubmed(doi)\n",
    "    results.append({\"DOI\": doi_result, \"PMID\": pmid})\n",
    "    \n",
    "    # Sleep 0.1 seconds to ensure not more than 10 requests per second.\n",
    "    time.sleep(0.1)\n",
    "\n",
    "# Save results to CSV\n",
    "df = pd.DataFrame(results)\n",
    "df.to_csv(\"pubmed_results.csv\", index=False)\n",
    "\n",
    "end_time = time.time()\n",
    "print(f\"Finished checking {len(dois)} DOIs in {end_time - start_time:.2f} seconds.\")\n",
    "print(\"Results saved in 'pubmed_results.csv'.\")\n",
    "\n",
    "# async def check_doi_in_pubmed(session, doi, limiter):\n",
    "#     params = {\n",
    "#         \"db\": \"pubmed\",\n",
    "#         \"term\": f\"{doi}[DOI]\",\n",
    "#         \"retmode\": \"json\",\n",
    "#         \"api_key\": API_KEY\n",
    "#     }\n",
    "#     retries = 3\n",
    "#     while retries > 0:\n",
    "#         async with limiter:\n",
    "#             try:\n",
    "#                 async with session.get(API_URL, params=params, timeout=5) as response:\n",
    "#                     if response.status == 200:\n",
    "#                         data = await response.json()\n",
    "#                         pmids = data.get(\"esearchresult\", {}).get(\"idlist\", [])\n",
    "#                         return {\"DOI\": doi, \"PMID\": pmids[0] if pmids else None}\n",
    "#                     elif response.status == 429:\n",
    "#                         print(f\"Rate limit hit for DOI {doi}, sleeping for 2 seconds...\")\n",
    "#                         await asyncio.sleep(2)\n",
    "#                     else:\n",
    "#                         print(f\"Error {response.status} for DOI: {doi}\")\n",
    "#                         return {\"DOI\": doi, \"PMID\": None}\n",
    "#             except Exception as e:\n",
    "#                 print(f\"Request error for DOI {doi}: {e}\")\n",
    "#         retries -= 1\n",
    "#         await asyncio.sleep(2)\n",
    "#     return {\"DOI\": doi, \"PMID\": None}\n",
    "\n",
    "# async def main():\n",
    "#     limiter = AsyncLimiter(max_rate=5, time_period=1)\n",
    "#     results = []\n",
    "    \n",
    "#     async with aiohttp.ClientSession() as session:\n",
    "#         # Create a list of coroutine tasks—one for each DOI\n",
    "#         tasks = [check_doi_in_pubmed(session, doi, limiter) for doi in dois]\n",
    "        \n",
    "#         # Use a regular for loop with tqdm to show progress.\n",
    "#         # asyncio.as_completed returns a generator of futures (not an async iterable)\n",
    "#         for future in tqdm(asyncio.as_completed(tasks), total=len(tasks), desc=\"Processing DOIs\"):\n",
    "#             result = await future\n",
    "#             results.append(result)\n",
    "    \n",
    "#     df = pd.DataFrame(results)\n",
    "#     df.to_csv(\"pubmed_results.csv\", index=False)\n",
    "#     print(\"Results saved in 'pubmed_results.csv'.\")\n",
    "\n",
    "# if __name__ == \"__main__\":\n",
    "#     asyncio.run(main())"
   ]
  },
  {
   "cell_type": "code",
   "execution_count": 20,
   "id": "eda902f3-60fa-4824-a5cb-25fe4fc857c4",
   "metadata": {
    "tags": []
   },
   "outputs": [
    {
     "data": {
      "text/plain": [
       "238703"
      ]
     },
     "execution_count": 20,
     "metadata": {},
     "output_type": "execute_result"
    }
   ],
   "source": [
    "len(dois)"
   ]
  },
  {
   "cell_type": "code",
   "execution_count": 21,
   "id": "d5992aa6-37c3-45d3-bcb7-cc847150d299",
   "metadata": {
    "tags": []
   },
   "outputs": [
    {
     "data": {
      "text/plain": [
       "119351.5"
      ]
     },
     "execution_count": 21,
     "metadata": {},
     "output_type": "execute_result"
    }
   ],
   "source": [
    "238703/2"
   ]
  },
  {
   "cell_type": "code",
   "execution_count": 10,
   "id": "af9b2ba4-0991-47ed-b109-caa3e9257154",
   "metadata": {},
   "outputs": [
    {
     "name": "stdout",
     "output_type": "stream",
     "text": [
      "Columns in icite_df: Index(['DOI', 'PMID', 'pmid', 'year', 'title', 'authors', 'journal',\n",
      "       'is_research_article', 'relative_citation_ratio', 'nih_percentile',\n",
      "       'human', 'animal', 'molecular_cellular', 'apt', 'is_clinical',\n",
      "       'citation_count', 'citations_per_year', 'expected_citations_per_year',\n",
      "       'field_citation_rate', 'provisional', 'x_coord', 'y_coord',\n",
      "       'cited_by_clin', 'cited_by', 'references', 'doi', 'last_modified'],\n",
      "      dtype='object')\n",
      "Columns in biomedrxiv_df: Index(['title', 'DOI', 'authors', 'abstract', 'date', 'journal',\n",
      "       'citation_number'],\n",
      "      dtype='object')\n",
      "Data type of DOI in icite_df: object\n",
      "Data type of DOI in biomedrxiv_df: object\n",
      "Merged data saved to final_data.csv\n"
     ]
    }
   ],
   "source": [
    "import pandas as pd\n",
    "\n",
    "# Load the two CSV files into pandas DataFrames\n",
    "icite_df = pd.read_csv('icite_results.csv', sep=',')\n",
    "biomedrxiv_df = pd.read_csv('filtered_biomedrxiv_data.csv', sep=',')\n",
    "\n",
    "# Rename the 'doi' column in biomedrxiv_df to 'DOI' to match icite_df for merging\n",
    "biomedrxiv_df = biomedrxiv_df.rename(columns={'doi': 'DOI'})\n",
    "\n",
    "# ** --- ADD THESE LINES TO DEBUG --- **\n",
    "print(\"Columns in icite_df:\", icite_df.columns)\n",
    "print(\"Columns in biomedrxiv_df:\", biomedrxiv_df.columns)\n",
    "print(\"Data type of DOI in icite_df:\", icite_df['DOI'].dtype)\n",
    "print(\"Data type of DOI in biomedrxiv_df:\", biomedrxiv_df['DOI'].dtype)\n",
    "# ** --- END DEBUG LINES --- **\n",
    "\n",
    "# Perform a left merge\n",
    "final_df = pd.merge(icite_df, biomedrxiv_df, on='DOI', how='left')\n",
    "\n",
    "# Save the merged DataFrame to a new CSV file called 'final_data.csv'\n",
    "final_df.to_csv('final_data.csv', index=False)\n",
    "\n",
    "print(\"Merged data saved to final_data.csv\")"
   ]
  },
  {
   "cell_type": "code",
   "execution_count": 11,
   "id": "db6400c0-02a7-497c-beb5-b5e407c1e3d4",
   "metadata": {
    "tags": []
   },
   "outputs": [
    {
     "data": {
      "text/plain": [
       "29462"
      ]
     },
     "execution_count": 11,
     "metadata": {},
     "output_type": "execute_result"
    }
   ],
   "source": [
    "len(final_df)"
   ]
  },
  {
   "cell_type": "code",
   "execution_count": 12,
   "id": "778327f6-4f6a-42a9-89b3-dda38a43d745",
   "metadata": {
    "tags": []
   },
   "outputs": [
    {
     "data": {
      "text/plain": [
       "29462"
      ]
     },
     "execution_count": 12,
     "metadata": {},
     "output_type": "execute_result"
    }
   ],
   "source": [
    "processed_df = final_df.drop(columns=[\"pmid\", \"year\", \"doi\", \"last_modified\", \"title_y\", \"authors_y\", \"journal_y\", 'provisional', 'x_coord', 'y_coord'])\n",
    "len(processed_df)"
   ]
  },
  {
   "cell_type": "code",
   "execution_count": 13,
   "id": "c39f144c-b1b6-4846-9068-5dcc2e54bd03",
   "metadata": {
    "tags": []
   },
   "outputs": [
    {
     "data": {
      "text/plain": [
       "29459"
      ]
     },
     "execution_count": 13,
     "metadata": {},
     "output_type": "execute_result"
    }
   ],
   "source": [
    "processed_df = processed_df[processed_df['is_research_article'] == 'Yes']\n",
    "len(processed_df)"
   ]
  },
  {
   "cell_type": "code",
   "execution_count": 15,
   "id": "769b255c-609b-4334-b284-cbd9c27e3a43",
   "metadata": {
    "tags": []
   },
   "outputs": [
    {
     "data": {
      "text/html": [
       "<div>\n",
       "<style scoped>\n",
       "    .dataframe tbody tr th:only-of-type {\n",
       "        vertical-align: middle;\n",
       "    }\n",
       "\n",
       "    .dataframe tbody tr th {\n",
       "        vertical-align: top;\n",
       "    }\n",
       "\n",
       "    .dataframe thead th {\n",
       "        text-align: right;\n",
       "    }\n",
       "</style>\n",
       "<table border=\"1\" class=\"dataframe\">\n",
       "  <thead>\n",
       "    <tr style=\"text-align: right;\">\n",
       "      <th></th>\n",
       "      <th>DOI</th>\n",
       "      <th>PMID</th>\n",
       "      <th>title_x</th>\n",
       "      <th>authors_x</th>\n",
       "      <th>journal_x</th>\n",
       "      <th>relative_citation_ratio</th>\n",
       "      <th>nih_percentile</th>\n",
       "      <th>human</th>\n",
       "      <th>animal</th>\n",
       "      <th>molecular_cellular</th>\n",
       "      <th>apt</th>\n",
       "      <th>is_clinical</th>\n",
       "      <th>citation_count</th>\n",
       "      <th>citations_per_year</th>\n",
       "      <th>expected_citations_per_year</th>\n",
       "      <th>field_citation_rate</th>\n",
       "      <th>abstract</th>\n",
       "      <th>date</th>\n",
       "      <th>citation_number</th>\n",
       "    </tr>\n",
       "  </thead>\n",
       "  <tbody>\n",
       "    <tr>\n",
       "      <th>0</th>\n",
       "      <td>10.1101/2020.10.19.343954</td>\n",
       "      <td>33106802</td>\n",
       "      <td>Single cell resolution of SARS-CoV-2 tropism, ...</td>\n",
       "      <td>Jessica K Fiege, Joshua M Thiede, Hezkiel Nand...</td>\n",
       "      <td>bioRxiv</td>\n",
       "      <td>0.03</td>\n",
       "      <td>2.3</td>\n",
       "      <td>0.25</td>\n",
       "      <td>0.00</td>\n",
       "      <td>0.75</td>\n",
       "      <td>0.05</td>\n",
       "      <td>No</td>\n",
       "      <td>1</td>\n",
       "      <td>0.2</td>\n",
       "      <td>6.008877</td>\n",
       "      <td>15.387986</td>\n",
       "      <td>The human airway epithelium is the initial sit...</td>\n",
       "      <td>2020-10-19</td>\n",
       "      <td>2.0</td>\n",
       "    </tr>\n",
       "    <tr>\n",
       "      <th>1</th>\n",
       "      <td>10.1101/2020.10.23.344085</td>\n",
       "      <td>33106810</td>\n",
       "      <td>Sterilizing Immunity against SARS-CoV-2 Infect...</td>\n",
       "      <td>Sonia Jangra, Jana De Vrieze, Angela Choi, Rav...</td>\n",
       "      <td>bioRxiv</td>\n",
       "      <td>0.20</td>\n",
       "      <td>10.1</td>\n",
       "      <td>0.25</td>\n",
       "      <td>0.25</td>\n",
       "      <td>0.50</td>\n",
       "      <td>0.05</td>\n",
       "      <td>No</td>\n",
       "      <td>3</td>\n",
       "      <td>0.6</td>\n",
       "      <td>2.998857</td>\n",
       "      <td>7.355940</td>\n",
       "      <td>The search for vaccines that protect from seve...</td>\n",
       "      <td>2020-10-23</td>\n",
       "      <td>5.0</td>\n",
       "    </tr>\n",
       "    <tr>\n",
       "      <th>2</th>\n",
       "      <td>10.1101/2020.10.30.362749</td>\n",
       "      <td>33140043</td>\n",
       "      <td>Mechanism of ligand recognition by human ACE2 ...</td>\n",
       "      <td>Apurba Bhattarai, Shristi Pawnikar, Yinglong Miao</td>\n",
       "      <td>bioRxiv</td>\n",
       "      <td>0.13</td>\n",
       "      <td>6.3</td>\n",
       "      <td>0.17</td>\n",
       "      <td>0.00</td>\n",
       "      <td>0.83</td>\n",
       "      <td>0.05</td>\n",
       "      <td>No</td>\n",
       "      <td>2</td>\n",
       "      <td>0.4</td>\n",
       "      <td>3.158375</td>\n",
       "      <td>7.781605</td>\n",
       "      <td>Angiotensin converting enzyme 2 (ACE2) plays a...</td>\n",
       "      <td>2020-11-01</td>\n",
       "      <td>2.0</td>\n",
       "    </tr>\n",
       "    <tr>\n",
       "      <th>3</th>\n",
       "      <td>10.1101/2020.10.27.358259</td>\n",
       "      <td>33140044</td>\n",
       "      <td>SARS-CoV-2 desensitizes host cells to interfer...</td>\n",
       "      <td>Da-Yuan Chen, Nazimuddin Khan, Brianna J Close...</td>\n",
       "      <td>bioRxiv</td>\n",
       "      <td>0.61</td>\n",
       "      <td>32.7</td>\n",
       "      <td>0.29</td>\n",
       "      <td>0.00</td>\n",
       "      <td>0.71</td>\n",
       "      <td>0.25</td>\n",
       "      <td>No</td>\n",
       "      <td>12</td>\n",
       "      <td>2.4</td>\n",
       "      <td>3.966928</td>\n",
       "      <td>9.939177</td>\n",
       "      <td>SARS-CoV-2 can infect multiple organs, includi...</td>\n",
       "      <td>2020-10-28</td>\n",
       "      <td>15.0</td>\n",
       "    </tr>\n",
       "    <tr>\n",
       "      <th>4</th>\n",
       "      <td>10.1101/2020.10.26.356048</td>\n",
       "      <td>33140045</td>\n",
       "      <td>ISG15-dependent Activation of the RNA Sensor M...</td>\n",
       "      <td>GuanQun Liu, Jung-Hyun Lee, Zachary M Parker, ...</td>\n",
       "      <td>bioRxiv</td>\n",
       "      <td>0.73</td>\n",
       "      <td>38.7</td>\n",
       "      <td>0.00</td>\n",
       "      <td>0.00</td>\n",
       "      <td>1.00</td>\n",
       "      <td>0.05</td>\n",
       "      <td>No</td>\n",
       "      <td>14</td>\n",
       "      <td>2.8</td>\n",
       "      <td>3.858002</td>\n",
       "      <td>9.648515</td>\n",
       "      <td>Activation of the RIG-I-like receptors, RIG-I ...</td>\n",
       "      <td>2020-10-27</td>\n",
       "      <td>15.0</td>\n",
       "    </tr>\n",
       "  </tbody>\n",
       "</table>\n",
       "</div>"
      ],
      "text/plain": [
       "                         DOI      PMID  \\\n",
       "0  10.1101/2020.10.19.343954  33106802   \n",
       "1  10.1101/2020.10.23.344085  33106810   \n",
       "2  10.1101/2020.10.30.362749  33140043   \n",
       "3  10.1101/2020.10.27.358259  33140044   \n",
       "4  10.1101/2020.10.26.356048  33140045   \n",
       "\n",
       "                                             title_x  \\\n",
       "0  Single cell resolution of SARS-CoV-2 tropism, ...   \n",
       "1  Sterilizing Immunity against SARS-CoV-2 Infect...   \n",
       "2  Mechanism of ligand recognition by human ACE2 ...   \n",
       "3  SARS-CoV-2 desensitizes host cells to interfer...   \n",
       "4  ISG15-dependent Activation of the RNA Sensor M...   \n",
       "\n",
       "                                           authors_x journal_x  \\\n",
       "0  Jessica K Fiege, Joshua M Thiede, Hezkiel Nand...   bioRxiv   \n",
       "1  Sonia Jangra, Jana De Vrieze, Angela Choi, Rav...   bioRxiv   \n",
       "2  Apurba Bhattarai, Shristi Pawnikar, Yinglong Miao   bioRxiv   \n",
       "3  Da-Yuan Chen, Nazimuddin Khan, Brianna J Close...   bioRxiv   \n",
       "4  GuanQun Liu, Jung-Hyun Lee, Zachary M Parker, ...   bioRxiv   \n",
       "\n",
       "   relative_citation_ratio  nih_percentile  human  animal  molecular_cellular  \\\n",
       "0                     0.03             2.3   0.25    0.00                0.75   \n",
       "1                     0.20            10.1   0.25    0.25                0.50   \n",
       "2                     0.13             6.3   0.17    0.00                0.83   \n",
       "3                     0.61            32.7   0.29    0.00                0.71   \n",
       "4                     0.73            38.7   0.00    0.00                1.00   \n",
       "\n",
       "    apt is_clinical  citation_count  citations_per_year  \\\n",
       "0  0.05          No               1                 0.2   \n",
       "1  0.05          No               3                 0.6   \n",
       "2  0.05          No               2                 0.4   \n",
       "3  0.25          No              12                 2.4   \n",
       "4  0.05          No              14                 2.8   \n",
       "\n",
       "   expected_citations_per_year  field_citation_rate  \\\n",
       "0                     6.008877            15.387986   \n",
       "1                     2.998857             7.355940   \n",
       "2                     3.158375             7.781605   \n",
       "3                     3.966928             9.939177   \n",
       "4                     3.858002             9.648515   \n",
       "\n",
       "                                            abstract        date  \\\n",
       "0  The human airway epithelium is the initial sit...  2020-10-19   \n",
       "1  The search for vaccines that protect from seve...  2020-10-23   \n",
       "2  Angiotensin converting enzyme 2 (ACE2) plays a...  2020-11-01   \n",
       "3  SARS-CoV-2 can infect multiple organs, includi...  2020-10-28   \n",
       "4  Activation of the RIG-I-like receptors, RIG-I ...  2020-10-27   \n",
       "\n",
       "   citation_number  \n",
       "0              2.0  \n",
       "1              5.0  \n",
       "2              2.0  \n",
       "3             15.0  \n",
       "4             15.0  "
      ]
     },
     "execution_count": 15,
     "metadata": {},
     "output_type": "execute_result"
    }
   ],
   "source": [
    "processed_df = processed_df.drop(columns=[\"cited_by_clin\", \"cited_by\", \"references\", \"is_research_article\"])\n",
    "processed_df.head()"
   ]
  },
  {
   "cell_type": "code",
   "execution_count": 16,
   "id": "30dca154-3810-40ec-a647-1ab735c4026d",
   "metadata": {
    "tags": []
   },
   "outputs": [
    {
     "data": {
      "text/plain": [
       "29459"
      ]
     },
     "execution_count": 16,
     "metadata": {},
     "output_type": "execute_result"
    }
   ],
   "source": [
    "len(processed_df)"
   ]
  },
  {
   "cell_type": "code",
   "execution_count": 17,
   "id": "57ca514e-50e8-4c26-9c71-c6f117278c47",
   "metadata": {
    "tags": []
   },
   "outputs": [
    {
     "data": {
      "text/plain": [
       "13437"
      ]
     },
     "execution_count": 17,
     "metadata": {},
     "output_type": "execute_result"
    }
   ],
   "source": [
    "rcr_df = processed_df[processed_df['relative_citation_ratio'].notna()]\n",
    "len(rcr_df)"
   ]
  },
  {
   "cell_type": "code",
   "execution_count": 18,
   "id": "97664461-e07c-4e9e-b853-0759ae0bfa3b",
   "metadata": {
    "tags": []
   },
   "outputs": [],
   "source": [
    "rcr_df.to_csv('final_rcr_data.csv', index=False)"
   ]
  },
  {
   "cell_type": "code",
   "execution_count": null,
   "id": "1825f29f-c0d8-4f50-aee7-239aec9b8527",
   "metadata": {},
   "outputs": [],
   "source": []
  }
 ],
 "metadata": {
  "kernelspec": {
   "display_name": "juniper",
   "language": "python",
   "name": "juniper"
  },
  "language_info": {
   "codemirror_mode": {
    "name": "ipython",
    "version": 3
   },
   "file_extension": ".py",
   "mimetype": "text/x-python",
   "name": "python",
   "nbconvert_exporter": "python",
   "pygments_lexer": "ipython3",
   "version": "3.10.15"
  }
 },
 "nbformat": 4,
 "nbformat_minor": 5
}
